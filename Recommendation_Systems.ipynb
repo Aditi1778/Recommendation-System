{
  "cells": [
    {
      "cell_type": "markdown",
      "metadata": {
        "id": "view-in-github",
        "colab_type": "text"
      },
      "source": [
        "<a href=\"https://colab.research.google.com/github/Aditi1778/Recommendation-System/blob/main/Recommendation_Systems.ipynb\" target=\"_parent\"><img src=\"https://colab.research.google.com/assets/colab-badge.svg\" alt=\"Open In Colab\"/></a>"
      ]
    },
    {
      "cell_type": "markdown",
      "metadata": {
        "id": "pXQzH0nC5JtP"
      },
      "source": [
        "# **Project: Amazon Product Recommendation System**\n",
        "\n",
        "# **Marks: 40**\n",
        "\n",
        "\n",
        "Welcome to the project on Recommendation Systems. We will work with the Amazon product reviews dataset for this project. The dataset contains ratings of different electronic products. It does not include information about the products or reviews to avoid bias while building the model.\n",
        "\n",
        "--------------\n",
        "## **Context:**\n",
        "--------------\n",
        "\n",
        "Today, information is growing exponentially with volume, velocity and variety throughout the globe. This has lead to information overload, and too many choices for the consumer of any business. It represents a real dilemma for these consumers and they often turn to denial. Recommender Systems are one of the best tools that help recommending products to consumers while they are browsing online. Providing personalized recommendations which is most relevant for the user is what's most likely to keep them engaged and help business.\n",
        "\n",
        "E-commerce websites like Amazon, Walmart, Target and Etsy use different recommendation models to provide personalized suggestions to different users. These companies spend millions of dollars to come up with algorithmic techniques that can provide personalized recommendations to their users.\n",
        "\n",
        "Amazon, for example, is well-known for its accurate selection of recommendations in its online site. Amazon's recommendation system is capable of intelligently analyzing and predicting customers' shopping preferences in order to offer them a list of recommended products. Amazon's recommendation algorithm is therefore a key element in using AI to improve the personalization of its website. For example, one of the baseline recommendation models that Amazon uses is item-to-item collaborative filtering, which scales to massive data sets and produces high-quality recommendations in real-time.\n",
        "\n",
        "----------------\n",
        "## **Objective:**\n",
        "----------------\n",
        "\n",
        "You are a Data Science Manager at Amazon, and have been given the task of building a recommendation system to recommend products to customers based on their previous ratings for other products. You have a collection of labeled data of Amazon reviews of products. The goal is to extract meaningful insights from the data and build a recommendation system that helps in recommending products to online consumers.\n",
        "\n",
        "-----------------------------\n",
        "## **Dataset:**\n",
        "-----------------------------\n",
        "\n",
        "The Amazon dataset contains the following attributes:\n",
        "\n",
        "- **userId:** Every user identified with a unique id\n",
        "- **productId:** Every product identified with a unique id\n",
        "- **Rating:** The rating of the corresponding product by the corresponding user\n",
        "- **timestamp:** Time of the rating. We **will not use this column** to solve the current problem"
      ]
    },
    {
      "cell_type": "markdown",
      "metadata": {
        "id": "NNicXy0Swk87"
      },
      "source": [
        "### **Please read the instructions carefully before starting the project.**\n",
        "\n",
        "This is a commented Jupyter IPython Notebook file in which all the instructions and tasks to be performed are mentioned. Read along carefully to complete the project.\n",
        "\n",
        "* Blanks '_______' are provided in the notebook that needs to be filled with an appropriate code to get the correct result. Please replace the blank with the right code snippet. With every '_______' blank, there is a comment that briefly describes what needs to be filled in the blank space.\n",
        "* Identify the task to be performed correctly, and only then proceed to write the required code.\n",
        "* Fill the code wherever asked by the commented lines like \"# Fill in the blank\" or \"# Complete the code\". Running incomplete code may throw an error.\n",
        "* Remove the blank and state your observations in detail wherever the mark down says 'Write your observations here:_________'\n",
        "* Please run the codes in a sequential manner from the beginning to avoid any unnecessary errors.\n",
        "* You can the results/observations derived from the analysis here and use them to create your final report."
      ]
    },
    {
      "cell_type": "markdown",
      "metadata": {
        "id": "UoRfgjS2yekq"
      },
      "source": [
        "Sometimes, the installation of the surprise library, which is used to build recommendation systems, faces issues in Jupyter. To avoid any issues, it is advised to use **Google Colab** for this project.\n",
        "\n",
        "Let's start by mounting the Google drive on Colab."
      ]
    },
    {
      "cell_type": "code",
      "execution_count": 1,
      "metadata": {
        "colab": {
          "base_uri": "https://localhost:8080/"
        },
        "id": "GZ0YAszcT4zK",
        "outputId": "6387a384-c3a2-41f3-e97f-5f5bea8048bc"
      },
      "outputs": [
        {
          "output_type": "stream",
          "name": "stdout",
          "text": [
            "Drive already mounted at /content/drive; to attempt to forcibly remount, call drive.mount(\"/content/drive\", force_remount=True).\n"
          ]
        }
      ],
      "source": [
        "from google.colab import drive\n",
        "drive.mount('/content/drive')"
      ]
    },
    {
      "cell_type": "markdown",
      "metadata": {
        "id": "0Ibk07-Cyekt"
      },
      "source": [
        "**Installing surprise library**"
      ]
    },
    {
      "cell_type": "code",
      "execution_count": 2,
      "metadata": {
        "colab": {
          "base_uri": "https://localhost:8080/"
        },
        "id": "05HQoiZYlsbB",
        "outputId": "8bc26880-fb4e-40a8-f617-bd95703831ce"
      },
      "outputs": [
        {
          "output_type": "stream",
          "name": "stdout",
          "text": [
            "Requirement already satisfied: surprise in /usr/local/lib/python3.11/dist-packages (0.1)\n",
            "Requirement already satisfied: scikit-surprise in /usr/local/lib/python3.11/dist-packages (from surprise) (1.1.4)\n",
            "Requirement already satisfied: joblib>=1.2.0 in /usr/local/lib/python3.11/dist-packages (from scikit-surprise->surprise) (1.4.2)\n",
            "Requirement already satisfied: numpy>=1.19.5 in /usr/local/lib/python3.11/dist-packages (from scikit-surprise->surprise) (2.2.4)\n",
            "Requirement already satisfied: scipy>=1.6.0 in /usr/local/lib/python3.11/dist-packages (from scikit-surprise->surprise) (1.15.2)\n"
          ]
        }
      ],
      "source": [
        "!pip install surprise"
      ]
    },
    {
      "cell_type": "markdown",
      "metadata": {
        "id": "7fIt4jcFIm76"
      },
      "source": [
        "## **Importing the necessary libraries and overview of the dataset**"
      ]
    },
    {
      "cell_type": "code",
      "execution_count": 3,
      "metadata": {
        "id": "jzu2P-TT5JtP"
      },
      "outputs": [],
      "source": [
        "import warnings                                 # Used to ignore the warning given as output of the code\n",
        "warnings.filterwarnings('ignore')\n",
        "\n",
        "import numpy as np                              # Basic libraries of python for numeric and dataframe computations\n",
        "import pandas as pd\n",
        "\n",
        "import matplotlib.pyplot as plt                 # Basic library for data visualization\n",
        "import seaborn as sns                           # Slightly advanced library for data visualization\n",
        "\n",
        "from collections import defaultdict             # A dictionary output that does not raise a key error\n",
        "\n",
        "from sklearn.metrics import mean_squared_error  # A performance metrics in sklearn"
      ]
    },
    {
      "cell_type": "markdown",
      "metadata": {
        "id": "NrXYJAv95JtP"
      },
      "source": [
        "### **Loading the data**"
      ]
    },
    {
      "cell_type": "code",
      "execution_count": 4,
      "metadata": {
        "id": "JGb-Hk1B5JtP"
      },
      "outputs": [],
      "source": [
        "# Import the dataset\n",
        "df = pd.read_csv('/content/drive/MyDrive/ratings_Electronics.csv', header = None) # There are no headers in the data file\n",
        "\n",
        "df.columns = ['user_id', 'prod_id', 'rating', 'timestamp'] # Adding column names\n",
        "\n",
        "df = df.drop('timestamp', axis = 1) # Dropping timestamp\n",
        "\n",
        "df_copy = df.copy(deep = True) # Copying the data to another DataFrame"
      ]
    },
    {
      "cell_type": "code",
      "source": [
        "df.head()"
      ],
      "metadata": {
        "colab": {
          "base_uri": "https://localhost:8080/",
          "height": 206
        },
        "id": "0wRFB8v71jn_",
        "outputId": "87ca2549-2bb4-4194-da9c-dbf6a533f751"
      },
      "execution_count": 5,
      "outputs": [
        {
          "output_type": "execute_result",
          "data": {
            "text/plain": [
              "          user_id     prod_id  rating\n",
              "0   AKM1MP6P0OYPR  0132793040     5.0\n",
              "1  A2CX7LUOHB2NDG  0321732944     5.0\n",
              "2  A2NWSAGRHCP8N5  0439886341     1.0\n",
              "3  A2WNBOD3WNDNKT  0439886341     3.0\n",
              "4  A1GI0U4ZRJA8WN  0439886341     1.0"
            ],
            "text/html": [
              "\n",
              "  <div id=\"df-b74c4b74-f62a-4720-9ed0-18dec0d1a7cb\" class=\"colab-df-container\">\n",
              "    <div>\n",
              "<style scoped>\n",
              "    .dataframe tbody tr th:only-of-type {\n",
              "        vertical-align: middle;\n",
              "    }\n",
              "\n",
              "    .dataframe tbody tr th {\n",
              "        vertical-align: top;\n",
              "    }\n",
              "\n",
              "    .dataframe thead th {\n",
              "        text-align: right;\n",
              "    }\n",
              "</style>\n",
              "<table border=\"1\" class=\"dataframe\">\n",
              "  <thead>\n",
              "    <tr style=\"text-align: right;\">\n",
              "      <th></th>\n",
              "      <th>user_id</th>\n",
              "      <th>prod_id</th>\n",
              "      <th>rating</th>\n",
              "    </tr>\n",
              "  </thead>\n",
              "  <tbody>\n",
              "    <tr>\n",
              "      <th>0</th>\n",
              "      <td>AKM1MP6P0OYPR</td>\n",
              "      <td>0132793040</td>\n",
              "      <td>5.0</td>\n",
              "    </tr>\n",
              "    <tr>\n",
              "      <th>1</th>\n",
              "      <td>A2CX7LUOHB2NDG</td>\n",
              "      <td>0321732944</td>\n",
              "      <td>5.0</td>\n",
              "    </tr>\n",
              "    <tr>\n",
              "      <th>2</th>\n",
              "      <td>A2NWSAGRHCP8N5</td>\n",
              "      <td>0439886341</td>\n",
              "      <td>1.0</td>\n",
              "    </tr>\n",
              "    <tr>\n",
              "      <th>3</th>\n",
              "      <td>A2WNBOD3WNDNKT</td>\n",
              "      <td>0439886341</td>\n",
              "      <td>3.0</td>\n",
              "    </tr>\n",
              "    <tr>\n",
              "      <th>4</th>\n",
              "      <td>A1GI0U4ZRJA8WN</td>\n",
              "      <td>0439886341</td>\n",
              "      <td>1.0</td>\n",
              "    </tr>\n",
              "  </tbody>\n",
              "</table>\n",
              "</div>\n",
              "    <div class=\"colab-df-buttons\">\n",
              "\n",
              "  <div class=\"colab-df-container\">\n",
              "    <button class=\"colab-df-convert\" onclick=\"convertToInteractive('df-b74c4b74-f62a-4720-9ed0-18dec0d1a7cb')\"\n",
              "            title=\"Convert this dataframe to an interactive table.\"\n",
              "            style=\"display:none;\">\n",
              "\n",
              "  <svg xmlns=\"http://www.w3.org/2000/svg\" height=\"24px\" viewBox=\"0 -960 960 960\">\n",
              "    <path d=\"M120-120v-720h720v720H120Zm60-500h600v-160H180v160Zm220 220h160v-160H400v160Zm0 220h160v-160H400v160ZM180-400h160v-160H180v160Zm440 0h160v-160H620v160ZM180-180h160v-160H180v160Zm440 0h160v-160H620v160Z\"/>\n",
              "  </svg>\n",
              "    </button>\n",
              "\n",
              "  <style>\n",
              "    .colab-df-container {\n",
              "      display:flex;\n",
              "      gap: 12px;\n",
              "    }\n",
              "\n",
              "    .colab-df-convert {\n",
              "      background-color: #E8F0FE;\n",
              "      border: none;\n",
              "      border-radius: 50%;\n",
              "      cursor: pointer;\n",
              "      display: none;\n",
              "      fill: #1967D2;\n",
              "      height: 32px;\n",
              "      padding: 0 0 0 0;\n",
              "      width: 32px;\n",
              "    }\n",
              "\n",
              "    .colab-df-convert:hover {\n",
              "      background-color: #E2EBFA;\n",
              "      box-shadow: 0px 1px 2px rgba(60, 64, 67, 0.3), 0px 1px 3px 1px rgba(60, 64, 67, 0.15);\n",
              "      fill: #174EA6;\n",
              "    }\n",
              "\n",
              "    .colab-df-buttons div {\n",
              "      margin-bottom: 4px;\n",
              "    }\n",
              "\n",
              "    [theme=dark] .colab-df-convert {\n",
              "      background-color: #3B4455;\n",
              "      fill: #D2E3FC;\n",
              "    }\n",
              "\n",
              "    [theme=dark] .colab-df-convert:hover {\n",
              "      background-color: #434B5C;\n",
              "      box-shadow: 0px 1px 3px 1px rgba(0, 0, 0, 0.15);\n",
              "      filter: drop-shadow(0px 1px 2px rgba(0, 0, 0, 0.3));\n",
              "      fill: #FFFFFF;\n",
              "    }\n",
              "  </style>\n",
              "\n",
              "    <script>\n",
              "      const buttonEl =\n",
              "        document.querySelector('#df-b74c4b74-f62a-4720-9ed0-18dec0d1a7cb button.colab-df-convert');\n",
              "      buttonEl.style.display =\n",
              "        google.colab.kernel.accessAllowed ? 'block' : 'none';\n",
              "\n",
              "      async function convertToInteractive(key) {\n",
              "        const element = document.querySelector('#df-b74c4b74-f62a-4720-9ed0-18dec0d1a7cb');\n",
              "        const dataTable =\n",
              "          await google.colab.kernel.invokeFunction('convertToInteractive',\n",
              "                                                    [key], {});\n",
              "        if (!dataTable) return;\n",
              "\n",
              "        const docLinkHtml = 'Like what you see? Visit the ' +\n",
              "          '<a target=\"_blank\" href=https://colab.research.google.com/notebooks/data_table.ipynb>data table notebook</a>'\n",
              "          + ' to learn more about interactive tables.';\n",
              "        element.innerHTML = '';\n",
              "        dataTable['output_type'] = 'display_data';\n",
              "        await google.colab.output.renderOutput(dataTable, element);\n",
              "        const docLink = document.createElement('div');\n",
              "        docLink.innerHTML = docLinkHtml;\n",
              "        element.appendChild(docLink);\n",
              "      }\n",
              "    </script>\n",
              "  </div>\n",
              "\n",
              "\n",
              "<div id=\"df-310c826b-f84d-4253-a52f-09f43222a5f6\">\n",
              "  <button class=\"colab-df-quickchart\" onclick=\"quickchart('df-310c826b-f84d-4253-a52f-09f43222a5f6')\"\n",
              "            title=\"Suggest charts\"\n",
              "            style=\"display:none;\">\n",
              "\n",
              "<svg xmlns=\"http://www.w3.org/2000/svg\" height=\"24px\"viewBox=\"0 0 24 24\"\n",
              "     width=\"24px\">\n",
              "    <g>\n",
              "        <path d=\"M19 3H5c-1.1 0-2 .9-2 2v14c0 1.1.9 2 2 2h14c1.1 0 2-.9 2-2V5c0-1.1-.9-2-2-2zM9 17H7v-7h2v7zm4 0h-2V7h2v10zm4 0h-2v-4h2v4z\"/>\n",
              "    </g>\n",
              "</svg>\n",
              "  </button>\n",
              "\n",
              "<style>\n",
              "  .colab-df-quickchart {\n",
              "      --bg-color: #E8F0FE;\n",
              "      --fill-color: #1967D2;\n",
              "      --hover-bg-color: #E2EBFA;\n",
              "      --hover-fill-color: #174EA6;\n",
              "      --disabled-fill-color: #AAA;\n",
              "      --disabled-bg-color: #DDD;\n",
              "  }\n",
              "\n",
              "  [theme=dark] .colab-df-quickchart {\n",
              "      --bg-color: #3B4455;\n",
              "      --fill-color: #D2E3FC;\n",
              "      --hover-bg-color: #434B5C;\n",
              "      --hover-fill-color: #FFFFFF;\n",
              "      --disabled-bg-color: #3B4455;\n",
              "      --disabled-fill-color: #666;\n",
              "  }\n",
              "\n",
              "  .colab-df-quickchart {\n",
              "    background-color: var(--bg-color);\n",
              "    border: none;\n",
              "    border-radius: 50%;\n",
              "    cursor: pointer;\n",
              "    display: none;\n",
              "    fill: var(--fill-color);\n",
              "    height: 32px;\n",
              "    padding: 0;\n",
              "    width: 32px;\n",
              "  }\n",
              "\n",
              "  .colab-df-quickchart:hover {\n",
              "    background-color: var(--hover-bg-color);\n",
              "    box-shadow: 0 1px 2px rgba(60, 64, 67, 0.3), 0 1px 3px 1px rgba(60, 64, 67, 0.15);\n",
              "    fill: var(--button-hover-fill-color);\n",
              "  }\n",
              "\n",
              "  .colab-df-quickchart-complete:disabled,\n",
              "  .colab-df-quickchart-complete:disabled:hover {\n",
              "    background-color: var(--disabled-bg-color);\n",
              "    fill: var(--disabled-fill-color);\n",
              "    box-shadow: none;\n",
              "  }\n",
              "\n",
              "  .colab-df-spinner {\n",
              "    border: 2px solid var(--fill-color);\n",
              "    border-color: transparent;\n",
              "    border-bottom-color: var(--fill-color);\n",
              "    animation:\n",
              "      spin 1s steps(1) infinite;\n",
              "  }\n",
              "\n",
              "  @keyframes spin {\n",
              "    0% {\n",
              "      border-color: transparent;\n",
              "      border-bottom-color: var(--fill-color);\n",
              "      border-left-color: var(--fill-color);\n",
              "    }\n",
              "    20% {\n",
              "      border-color: transparent;\n",
              "      border-left-color: var(--fill-color);\n",
              "      border-top-color: var(--fill-color);\n",
              "    }\n",
              "    30% {\n",
              "      border-color: transparent;\n",
              "      border-left-color: var(--fill-color);\n",
              "      border-top-color: var(--fill-color);\n",
              "      border-right-color: var(--fill-color);\n",
              "    }\n",
              "    40% {\n",
              "      border-color: transparent;\n",
              "      border-right-color: var(--fill-color);\n",
              "      border-top-color: var(--fill-color);\n",
              "    }\n",
              "    60% {\n",
              "      border-color: transparent;\n",
              "      border-right-color: var(--fill-color);\n",
              "    }\n",
              "    80% {\n",
              "      border-color: transparent;\n",
              "      border-right-color: var(--fill-color);\n",
              "      border-bottom-color: var(--fill-color);\n",
              "    }\n",
              "    90% {\n",
              "      border-color: transparent;\n",
              "      border-bottom-color: var(--fill-color);\n",
              "    }\n",
              "  }\n",
              "</style>\n",
              "\n",
              "  <script>\n",
              "    async function quickchart(key) {\n",
              "      const quickchartButtonEl =\n",
              "        document.querySelector('#' + key + ' button');\n",
              "      quickchartButtonEl.disabled = true;  // To prevent multiple clicks.\n",
              "      quickchartButtonEl.classList.add('colab-df-spinner');\n",
              "      try {\n",
              "        const charts = await google.colab.kernel.invokeFunction(\n",
              "            'suggestCharts', [key], {});\n",
              "      } catch (error) {\n",
              "        console.error('Error during call to suggestCharts:', error);\n",
              "      }\n",
              "      quickchartButtonEl.classList.remove('colab-df-spinner');\n",
              "      quickchartButtonEl.classList.add('colab-df-quickchart-complete');\n",
              "    }\n",
              "    (() => {\n",
              "      let quickchartButtonEl =\n",
              "        document.querySelector('#df-310c826b-f84d-4253-a52f-09f43222a5f6 button');\n",
              "      quickchartButtonEl.style.display =\n",
              "        google.colab.kernel.accessAllowed ? 'block' : 'none';\n",
              "    })();\n",
              "  </script>\n",
              "</div>\n",
              "\n",
              "    </div>\n",
              "  </div>\n"
            ],
            "application/vnd.google.colaboratory.intrinsic+json": {
              "type": "dataframe",
              "variable_name": "df"
            }
          },
          "metadata": {},
          "execution_count": 5
        }
      ]
    },
    {
      "cell_type": "code",
      "source": [
        "df.groupby('prod_id')['rating'].count().sort_values(ascending = False)"
      ],
      "metadata": {
        "colab": {
          "base_uri": "https://localhost:8080/",
          "height": 490
        },
        "id": "ceDZA3S-3cvE",
        "outputId": "96792eb1-c874-48c6-e57b-7e8b3d791fdf"
      },
      "execution_count": 6,
      "outputs": [
        {
          "output_type": "execute_result",
          "data": {
            "text/plain": [
              "prod_id\n",
              "B0074BW614    18244\n",
              "B00DR0PDNE    16454\n",
              "B007WTAJTO    14172\n",
              "B0019EHU8G    12285\n",
              "B006GWO5WK    12226\n",
              "              ...  \n",
              "0594287995        1\n",
              "0594450705        1\n",
              "B00LKWZKH0        1\n",
              "B00LGFA0U8        1\n",
              "B00LGN7Y3G        1\n",
              "Name: rating, Length: 476002, dtype: int64"
            ],
            "text/html": [
              "<div>\n",
              "<style scoped>\n",
              "    .dataframe tbody tr th:only-of-type {\n",
              "        vertical-align: middle;\n",
              "    }\n",
              "\n",
              "    .dataframe tbody tr th {\n",
              "        vertical-align: top;\n",
              "    }\n",
              "\n",
              "    .dataframe thead th {\n",
              "        text-align: right;\n",
              "    }\n",
              "</style>\n",
              "<table border=\"1\" class=\"dataframe\">\n",
              "  <thead>\n",
              "    <tr style=\"text-align: right;\">\n",
              "      <th></th>\n",
              "      <th>rating</th>\n",
              "    </tr>\n",
              "    <tr>\n",
              "      <th>prod_id</th>\n",
              "      <th></th>\n",
              "    </tr>\n",
              "  </thead>\n",
              "  <tbody>\n",
              "    <tr>\n",
              "      <th>B0074BW614</th>\n",
              "      <td>18244</td>\n",
              "    </tr>\n",
              "    <tr>\n",
              "      <th>B00DR0PDNE</th>\n",
              "      <td>16454</td>\n",
              "    </tr>\n",
              "    <tr>\n",
              "      <th>B007WTAJTO</th>\n",
              "      <td>14172</td>\n",
              "    </tr>\n",
              "    <tr>\n",
              "      <th>B0019EHU8G</th>\n",
              "      <td>12285</td>\n",
              "    </tr>\n",
              "    <tr>\n",
              "      <th>B006GWO5WK</th>\n",
              "      <td>12226</td>\n",
              "    </tr>\n",
              "    <tr>\n",
              "      <th>...</th>\n",
              "      <td>...</td>\n",
              "    </tr>\n",
              "    <tr>\n",
              "      <th>0594287995</th>\n",
              "      <td>1</td>\n",
              "    </tr>\n",
              "    <tr>\n",
              "      <th>0594450705</th>\n",
              "      <td>1</td>\n",
              "    </tr>\n",
              "    <tr>\n",
              "      <th>B00LKWZKH0</th>\n",
              "      <td>1</td>\n",
              "    </tr>\n",
              "    <tr>\n",
              "      <th>B00LGFA0U8</th>\n",
              "      <td>1</td>\n",
              "    </tr>\n",
              "    <tr>\n",
              "      <th>B00LGN7Y3G</th>\n",
              "      <td>1</td>\n",
              "    </tr>\n",
              "  </tbody>\n",
              "</table>\n",
              "<p>476002 rows × 1 columns</p>\n",
              "</div><br><label><b>dtype:</b> int64</label>"
            ]
          },
          "metadata": {},
          "execution_count": 6
        }
      ]
    },
    {
      "cell_type": "code",
      "source": [
        "df.shape"
      ],
      "metadata": {
        "colab": {
          "base_uri": "https://localhost:8080/"
        },
        "id": "Gh8_26ag2h-J",
        "outputId": "b9ca8150-502d-4d88-846c-66fd0d39ff31"
      },
      "execution_count": 7,
      "outputs": [
        {
          "output_type": "execute_result",
          "data": {
            "text/plain": [
              "(7824482, 3)"
            ]
          },
          "metadata": {},
          "execution_count": 7
        }
      ]
    },
    {
      "cell_type": "markdown",
      "metadata": {
        "id": "OVQnSG5g_9uX"
      },
      "source": [
        "**As this dataset is very large and has 7,824,482 observations, it is not computationally possible to build a model using this. Moreover, many users have only rated a few products and also some products are rated by very few users. Hence, we can reduce the dataset by considering certain logical assumptions.**\n",
        "\n",
        "Here, we will be taking users who have given at least 50 ratings, and the products that have at least 5 ratings, as when we shop online we prefer to have some number of ratings of a product."
      ]
    },
    {
      "cell_type": "code",
      "execution_count": 8,
      "metadata": {
        "id": "xtrAS1Qcwk8_"
      },
      "outputs": [],
      "source": [
        "# Get the column containing the users\n",
        "users = df.user_id\n",
        "\n",
        "# Create a dictionary from users to their number of ratings\n",
        "ratings_count = dict()\n",
        "\n",
        "for user in users:\n",
        "\n",
        "    # If we already have the user, just add 1 to their rating count\n",
        "    if user in ratings_count:\n",
        "        ratings_count[user] += 1\n",
        "\n",
        "    # Otherwise, set their rating count to 1\n",
        "    else:\n",
        "        ratings_count[user] = 1"
      ]
    },
    {
      "cell_type": "code",
      "execution_count": 9,
      "metadata": {
        "id": "4tW29EO9wk9A"
      },
      "outputs": [],
      "source": [
        "# We want our users to have at least 50 ratings to be considered\n",
        "RATINGS_CUTOFF = 50\n",
        "\n",
        "remove_users = []\n",
        "\n",
        "for user, num_ratings in ratings_count.items():\n",
        "    if num_ratings < RATINGS_CUTOFF:\n",
        "        remove_users.append(user)\n",
        "\n",
        "df = df.loc[ ~ df.user_id.isin(remove_users)]"
      ]
    },
    {
      "cell_type": "code",
      "execution_count": 10,
      "metadata": {
        "id": "mZ-UHkjWwk9A"
      },
      "outputs": [],
      "source": [
        "# Get the column containing the products\n",
        "prods = df.prod_id\n",
        "\n",
        "# Create a dictionary from products to their number of ratings\n",
        "ratings_count = dict()\n",
        "\n",
        "for prod in prods:\n",
        "\n",
        "    # If we already have the product, just add 1 to its rating count\n",
        "    if prod in ratings_count:\n",
        "        ratings_count[prod] += 1\n",
        "\n",
        "    # Otherwise, set their rating count to 1\n",
        "    else:\n",
        "        ratings_count[prod] = 1"
      ]
    },
    {
      "cell_type": "code",
      "execution_count": 11,
      "metadata": {
        "id": "YbJwg2lxwk9A"
      },
      "outputs": [],
      "source": [
        "# We want our item to have at least 5 ratings to be considered\n",
        "RATINGS_CUTOFF = 5\n",
        "\n",
        "remove_users = []\n",
        "\n",
        "for user, num_ratings in ratings_count.items():\n",
        "    if num_ratings < RATINGS_CUTOFF:\n",
        "        remove_users.append(user)\n",
        "\n",
        "df_final = df.loc[~ df.prod_id.isin(remove_users)]"
      ]
    },
    {
      "cell_type": "code",
      "source": [
        "df_final.shape"
      ],
      "metadata": {
        "colab": {
          "base_uri": "https://localhost:8080/"
        },
        "id": "bDIV4J-BsKFv",
        "outputId": "24a3b3ea-b4e4-4c46-cdcb-0e2c2fcdf06e"
      },
      "execution_count": 12,
      "outputs": [
        {
          "output_type": "execute_result",
          "data": {
            "text/plain": [
              "(65290, 3)"
            ]
          },
          "metadata": {},
          "execution_count": 12
        }
      ]
    },
    {
      "cell_type": "code",
      "execution_count": 13,
      "metadata": {
        "colab": {
          "base_uri": "https://localhost:8080/",
          "height": 206
        },
        "id": "aL1JZ00o5JtQ",
        "outputId": "0e33da8e-19fb-4374-9c1c-06eaf7a9d81f"
      },
      "outputs": [
        {
          "output_type": "execute_result",
          "data": {
            "text/plain": [
              "             user_id     prod_id  rating\n",
              "1310  A3LDPF5FMB782Z  1400501466     5.0\n",
              "1322  A1A5KUIIIHFF4U  1400501466     1.0\n",
              "1335  A2XIOXRRYX0KZY  1400501466     3.0\n",
              "1451   AW3LX47IHPFRL  1400501466     5.0\n",
              "1456  A1E3OB6QMBKRYZ  1400501466     1.0"
            ],
            "text/html": [
              "\n",
              "  <div id=\"df-384befc9-ef8e-412f-8163-555fe4a72016\" class=\"colab-df-container\">\n",
              "    <div>\n",
              "<style scoped>\n",
              "    .dataframe tbody tr th:only-of-type {\n",
              "        vertical-align: middle;\n",
              "    }\n",
              "\n",
              "    .dataframe tbody tr th {\n",
              "        vertical-align: top;\n",
              "    }\n",
              "\n",
              "    .dataframe thead th {\n",
              "        text-align: right;\n",
              "    }\n",
              "</style>\n",
              "<table border=\"1\" class=\"dataframe\">\n",
              "  <thead>\n",
              "    <tr style=\"text-align: right;\">\n",
              "      <th></th>\n",
              "      <th>user_id</th>\n",
              "      <th>prod_id</th>\n",
              "      <th>rating</th>\n",
              "    </tr>\n",
              "  </thead>\n",
              "  <tbody>\n",
              "    <tr>\n",
              "      <th>1310</th>\n",
              "      <td>A3LDPF5FMB782Z</td>\n",
              "      <td>1400501466</td>\n",
              "      <td>5.0</td>\n",
              "    </tr>\n",
              "    <tr>\n",
              "      <th>1322</th>\n",
              "      <td>A1A5KUIIIHFF4U</td>\n",
              "      <td>1400501466</td>\n",
              "      <td>1.0</td>\n",
              "    </tr>\n",
              "    <tr>\n",
              "      <th>1335</th>\n",
              "      <td>A2XIOXRRYX0KZY</td>\n",
              "      <td>1400501466</td>\n",
              "      <td>3.0</td>\n",
              "    </tr>\n",
              "    <tr>\n",
              "      <th>1451</th>\n",
              "      <td>AW3LX47IHPFRL</td>\n",
              "      <td>1400501466</td>\n",
              "      <td>5.0</td>\n",
              "    </tr>\n",
              "    <tr>\n",
              "      <th>1456</th>\n",
              "      <td>A1E3OB6QMBKRYZ</td>\n",
              "      <td>1400501466</td>\n",
              "      <td>1.0</td>\n",
              "    </tr>\n",
              "  </tbody>\n",
              "</table>\n",
              "</div>\n",
              "    <div class=\"colab-df-buttons\">\n",
              "\n",
              "  <div class=\"colab-df-container\">\n",
              "    <button class=\"colab-df-convert\" onclick=\"convertToInteractive('df-384befc9-ef8e-412f-8163-555fe4a72016')\"\n",
              "            title=\"Convert this dataframe to an interactive table.\"\n",
              "            style=\"display:none;\">\n",
              "\n",
              "  <svg xmlns=\"http://www.w3.org/2000/svg\" height=\"24px\" viewBox=\"0 -960 960 960\">\n",
              "    <path d=\"M120-120v-720h720v720H120Zm60-500h600v-160H180v160Zm220 220h160v-160H400v160Zm0 220h160v-160H400v160ZM180-400h160v-160H180v160Zm440 0h160v-160H620v160ZM180-180h160v-160H180v160Zm440 0h160v-160H620v160Z\"/>\n",
              "  </svg>\n",
              "    </button>\n",
              "\n",
              "  <style>\n",
              "    .colab-df-container {\n",
              "      display:flex;\n",
              "      gap: 12px;\n",
              "    }\n",
              "\n",
              "    .colab-df-convert {\n",
              "      background-color: #E8F0FE;\n",
              "      border: none;\n",
              "      border-radius: 50%;\n",
              "      cursor: pointer;\n",
              "      display: none;\n",
              "      fill: #1967D2;\n",
              "      height: 32px;\n",
              "      padding: 0 0 0 0;\n",
              "      width: 32px;\n",
              "    }\n",
              "\n",
              "    .colab-df-convert:hover {\n",
              "      background-color: #E2EBFA;\n",
              "      box-shadow: 0px 1px 2px rgba(60, 64, 67, 0.3), 0px 1px 3px 1px rgba(60, 64, 67, 0.15);\n",
              "      fill: #174EA6;\n",
              "    }\n",
              "\n",
              "    .colab-df-buttons div {\n",
              "      margin-bottom: 4px;\n",
              "    }\n",
              "\n",
              "    [theme=dark] .colab-df-convert {\n",
              "      background-color: #3B4455;\n",
              "      fill: #D2E3FC;\n",
              "    }\n",
              "\n",
              "    [theme=dark] .colab-df-convert:hover {\n",
              "      background-color: #434B5C;\n",
              "      box-shadow: 0px 1px 3px 1px rgba(0, 0, 0, 0.15);\n",
              "      filter: drop-shadow(0px 1px 2px rgba(0, 0, 0, 0.3));\n",
              "      fill: #FFFFFF;\n",
              "    }\n",
              "  </style>\n",
              "\n",
              "    <script>\n",
              "      const buttonEl =\n",
              "        document.querySelector('#df-384befc9-ef8e-412f-8163-555fe4a72016 button.colab-df-convert');\n",
              "      buttonEl.style.display =\n",
              "        google.colab.kernel.accessAllowed ? 'block' : 'none';\n",
              "\n",
              "      async function convertToInteractive(key) {\n",
              "        const element = document.querySelector('#df-384befc9-ef8e-412f-8163-555fe4a72016');\n",
              "        const dataTable =\n",
              "          await google.colab.kernel.invokeFunction('convertToInteractive',\n",
              "                                                    [key], {});\n",
              "        if (!dataTable) return;\n",
              "\n",
              "        const docLinkHtml = 'Like what you see? Visit the ' +\n",
              "          '<a target=\"_blank\" href=https://colab.research.google.com/notebooks/data_table.ipynb>data table notebook</a>'\n",
              "          + ' to learn more about interactive tables.';\n",
              "        element.innerHTML = '';\n",
              "        dataTable['output_type'] = 'display_data';\n",
              "        await google.colab.output.renderOutput(dataTable, element);\n",
              "        const docLink = document.createElement('div');\n",
              "        docLink.innerHTML = docLinkHtml;\n",
              "        element.appendChild(docLink);\n",
              "      }\n",
              "    </script>\n",
              "  </div>\n",
              "\n",
              "\n",
              "<div id=\"df-b3b34513-5dcf-4920-a309-c0f16e0d1ef3\">\n",
              "  <button class=\"colab-df-quickchart\" onclick=\"quickchart('df-b3b34513-5dcf-4920-a309-c0f16e0d1ef3')\"\n",
              "            title=\"Suggest charts\"\n",
              "            style=\"display:none;\">\n",
              "\n",
              "<svg xmlns=\"http://www.w3.org/2000/svg\" height=\"24px\"viewBox=\"0 0 24 24\"\n",
              "     width=\"24px\">\n",
              "    <g>\n",
              "        <path d=\"M19 3H5c-1.1 0-2 .9-2 2v14c0 1.1.9 2 2 2h14c1.1 0 2-.9 2-2V5c0-1.1-.9-2-2-2zM9 17H7v-7h2v7zm4 0h-2V7h2v10zm4 0h-2v-4h2v4z\"/>\n",
              "    </g>\n",
              "</svg>\n",
              "  </button>\n",
              "\n",
              "<style>\n",
              "  .colab-df-quickchart {\n",
              "      --bg-color: #E8F0FE;\n",
              "      --fill-color: #1967D2;\n",
              "      --hover-bg-color: #E2EBFA;\n",
              "      --hover-fill-color: #174EA6;\n",
              "      --disabled-fill-color: #AAA;\n",
              "      --disabled-bg-color: #DDD;\n",
              "  }\n",
              "\n",
              "  [theme=dark] .colab-df-quickchart {\n",
              "      --bg-color: #3B4455;\n",
              "      --fill-color: #D2E3FC;\n",
              "      --hover-bg-color: #434B5C;\n",
              "      --hover-fill-color: #FFFFFF;\n",
              "      --disabled-bg-color: #3B4455;\n",
              "      --disabled-fill-color: #666;\n",
              "  }\n",
              "\n",
              "  .colab-df-quickchart {\n",
              "    background-color: var(--bg-color);\n",
              "    border: none;\n",
              "    border-radius: 50%;\n",
              "    cursor: pointer;\n",
              "    display: none;\n",
              "    fill: var(--fill-color);\n",
              "    height: 32px;\n",
              "    padding: 0;\n",
              "    width: 32px;\n",
              "  }\n",
              "\n",
              "  .colab-df-quickchart:hover {\n",
              "    background-color: var(--hover-bg-color);\n",
              "    box-shadow: 0 1px 2px rgba(60, 64, 67, 0.3), 0 1px 3px 1px rgba(60, 64, 67, 0.15);\n",
              "    fill: var(--button-hover-fill-color);\n",
              "  }\n",
              "\n",
              "  .colab-df-quickchart-complete:disabled,\n",
              "  .colab-df-quickchart-complete:disabled:hover {\n",
              "    background-color: var(--disabled-bg-color);\n",
              "    fill: var(--disabled-fill-color);\n",
              "    box-shadow: none;\n",
              "  }\n",
              "\n",
              "  .colab-df-spinner {\n",
              "    border: 2px solid var(--fill-color);\n",
              "    border-color: transparent;\n",
              "    border-bottom-color: var(--fill-color);\n",
              "    animation:\n",
              "      spin 1s steps(1) infinite;\n",
              "  }\n",
              "\n",
              "  @keyframes spin {\n",
              "    0% {\n",
              "      border-color: transparent;\n",
              "      border-bottom-color: var(--fill-color);\n",
              "      border-left-color: var(--fill-color);\n",
              "    }\n",
              "    20% {\n",
              "      border-color: transparent;\n",
              "      border-left-color: var(--fill-color);\n",
              "      border-top-color: var(--fill-color);\n",
              "    }\n",
              "    30% {\n",
              "      border-color: transparent;\n",
              "      border-left-color: var(--fill-color);\n",
              "      border-top-color: var(--fill-color);\n",
              "      border-right-color: var(--fill-color);\n",
              "    }\n",
              "    40% {\n",
              "      border-color: transparent;\n",
              "      border-right-color: var(--fill-color);\n",
              "      border-top-color: var(--fill-color);\n",
              "    }\n",
              "    60% {\n",
              "      border-color: transparent;\n",
              "      border-right-color: var(--fill-color);\n",
              "    }\n",
              "    80% {\n",
              "      border-color: transparent;\n",
              "      border-right-color: var(--fill-color);\n",
              "      border-bottom-color: var(--fill-color);\n",
              "    }\n",
              "    90% {\n",
              "      border-color: transparent;\n",
              "      border-bottom-color: var(--fill-color);\n",
              "    }\n",
              "  }\n",
              "</style>\n",
              "\n",
              "  <script>\n",
              "    async function quickchart(key) {\n",
              "      const quickchartButtonEl =\n",
              "        document.querySelector('#' + key + ' button');\n",
              "      quickchartButtonEl.disabled = true;  // To prevent multiple clicks.\n",
              "      quickchartButtonEl.classList.add('colab-df-spinner');\n",
              "      try {\n",
              "        const charts = await google.colab.kernel.invokeFunction(\n",
              "            'suggestCharts', [key], {});\n",
              "      } catch (error) {\n",
              "        console.error('Error during call to suggestCharts:', error);\n",
              "      }\n",
              "      quickchartButtonEl.classList.remove('colab-df-spinner');\n",
              "      quickchartButtonEl.classList.add('colab-df-quickchart-complete');\n",
              "    }\n",
              "    (() => {\n",
              "      let quickchartButtonEl =\n",
              "        document.querySelector('#df-b3b34513-5dcf-4920-a309-c0f16e0d1ef3 button');\n",
              "      quickchartButtonEl.style.display =\n",
              "        google.colab.kernel.accessAllowed ? 'block' : 'none';\n",
              "    })();\n",
              "  </script>\n",
              "</div>\n",
              "\n",
              "    </div>\n",
              "  </div>\n"
            ],
            "application/vnd.google.colaboratory.intrinsic+json": {
              "type": "dataframe",
              "variable_name": "df_final",
              "summary": "{\n  \"name\": \"df_final\",\n  \"rows\": 65290,\n  \"fields\": [\n    {\n      \"column\": \"user_id\",\n      \"properties\": {\n        \"dtype\": \"category\",\n        \"num_unique_values\": 1540,\n        \"samples\": [\n          \"A1VJ0V58N0698J\",\n          \"A14X244VGHWPSX\",\n          \"A14JBDSWKPKTZA\"\n        ],\n        \"semantic_type\": \"\",\n        \"description\": \"\"\n      }\n    },\n    {\n      \"column\": \"prod_id\",\n      \"properties\": {\n        \"dtype\": \"category\",\n        \"num_unique_values\": 5689,\n        \"samples\": [\n          \"B005EOWBHC\",\n          \"B00BB72WX4\",\n          \"B00B9AB26G\"\n        ],\n        \"semantic_type\": \"\",\n        \"description\": \"\"\n      }\n    },\n    {\n      \"column\": \"rating\",\n      \"properties\": {\n        \"dtype\": \"number\",\n        \"std\": 0.9889148020338726,\n        \"min\": 1.0,\n        \"max\": 5.0,\n        \"num_unique_values\": 5,\n        \"samples\": [\n          1.0,\n          2.0,\n          3.0\n        ],\n        \"semantic_type\": \"\",\n        \"description\": \"\"\n      }\n    }\n  ]\n}"
            }
          },
          "metadata": {},
          "execution_count": 13
        }
      ],
      "source": [
        "# Print a few rows of the imported dataset\n",
        "df_final.head()"
      ]
    },
    {
      "cell_type": "code",
      "source": [
        "df_final.info()"
      ],
      "metadata": {
        "colab": {
          "base_uri": "https://localhost:8080/"
        },
        "id": "FztenumKu6XN",
        "outputId": "d93998bd-39f2-4ca9-c557-42f791a9b37c"
      },
      "execution_count": 14,
      "outputs": [
        {
          "output_type": "stream",
          "name": "stdout",
          "text": [
            "<class 'pandas.core.frame.DataFrame'>\n",
            "Index: 65290 entries, 1310 to 7824427\n",
            "Data columns (total 3 columns):\n",
            " #   Column   Non-Null Count  Dtype  \n",
            "---  ------   --------------  -----  \n",
            " 0   user_id  65290 non-null  object \n",
            " 1   prod_id  65290 non-null  object \n",
            " 2   rating   65290 non-null  float64\n",
            "dtypes: float64(1), object(2)\n",
            "memory usage: 2.0+ MB\n"
          ]
        }
      ]
    },
    {
      "cell_type": "markdown",
      "metadata": {
        "id": "GuPoy_XfxhXZ"
      },
      "source": [
        "## **Exploratory Data Analysis**"
      ]
    },
    {
      "cell_type": "markdown",
      "metadata": {
        "id": "s0d0bWeG-sVB"
      },
      "source": [
        "### **Shape of the data**"
      ]
    },
    {
      "cell_type": "code",
      "execution_count": 15,
      "metadata": {
        "id": "fJ4eQKaY5JtQ",
        "colab": {
          "base_uri": "https://localhost:8080/"
        },
        "outputId": "8839563c-157a-436d-99a5-89a03957033a"
      },
      "outputs": [
        {
          "output_type": "stream",
          "name": "stdout",
          "text": [
            "No of rows:  65290\n",
            "No of columns:  3\n"
          ]
        }
      ],
      "source": [
        "# Check the number of rows and columns and provide observations\n",
        "rows, columns = df_final.shape\n",
        "print(\"No of rows: \", rows)\n",
        "print(\"No of columns: \", columns)"
      ]
    },
    {
      "cell_type": "markdown",
      "metadata": {
        "id": "Slp-fgWQ-sVD"
      },
      "source": [
        "**Write your observations here:______**"
      ]
    },
    {
      "cell_type": "markdown",
      "metadata": {
        "id": "lAMWm0nC-sVF"
      },
      "source": [
        "### **Data types**"
      ]
    },
    {
      "cell_type": "code",
      "execution_count": 16,
      "metadata": {
        "id": "SVrgMkye5JtQ",
        "colab": {
          "base_uri": "https://localhost:8080/"
        },
        "outputId": "c56d3c84-36f2-4600-fd4f-9c332f3ef81d"
      },
      "outputs": [
        {
          "output_type": "stream",
          "name": "stdout",
          "text": [
            "<class 'pandas.core.frame.DataFrame'>\n",
            "Index: 65290 entries, 1310 to 7824427\n",
            "Data columns (total 3 columns):\n",
            " #   Column   Non-Null Count  Dtype  \n",
            "---  ------   --------------  -----  \n",
            " 0   user_id  65290 non-null  object \n",
            " 1   prod_id  65290 non-null  object \n",
            " 2   rating   65290 non-null  float64\n",
            "dtypes: float64(1), object(2)\n",
            "memory usage: 2.0+ MB\n"
          ]
        }
      ],
      "source": [
        "# Check Data types and provide observations\n",
        "df_final.info()"
      ]
    },
    {
      "cell_type": "markdown",
      "metadata": {
        "id": "z4fOE02D-sVF"
      },
      "source": [
        "**Write your observations here:______**"
      ]
    },
    {
      "cell_type": "markdown",
      "metadata": {
        "id": "lTMpOROT-sVG"
      },
      "source": [
        "### **Checking for missing values**"
      ]
    },
    {
      "cell_type": "code",
      "execution_count": 17,
      "metadata": {
        "id": "vt-VEjMA5JtQ",
        "colab": {
          "base_uri": "https://localhost:8080/",
          "height": 178
        },
        "outputId": "b8bd3beb-f107-4d71-9410-4c07657112e2"
      },
      "outputs": [
        {
          "output_type": "execute_result",
          "data": {
            "text/plain": [
              "user_id    0.0\n",
              "prod_id    0.0\n",
              "rating     0.0\n",
              "dtype: float64"
            ],
            "text/html": [
              "<div>\n",
              "<style scoped>\n",
              "    .dataframe tbody tr th:only-of-type {\n",
              "        vertical-align: middle;\n",
              "    }\n",
              "\n",
              "    .dataframe tbody tr th {\n",
              "        vertical-align: top;\n",
              "    }\n",
              "\n",
              "    .dataframe thead th {\n",
              "        text-align: right;\n",
              "    }\n",
              "</style>\n",
              "<table border=\"1\" class=\"dataframe\">\n",
              "  <thead>\n",
              "    <tr style=\"text-align: right;\">\n",
              "      <th></th>\n",
              "      <th>0</th>\n",
              "    </tr>\n",
              "  </thead>\n",
              "  <tbody>\n",
              "    <tr>\n",
              "      <th>user_id</th>\n",
              "      <td>0.0</td>\n",
              "    </tr>\n",
              "    <tr>\n",
              "      <th>prod_id</th>\n",
              "      <td>0.0</td>\n",
              "    </tr>\n",
              "    <tr>\n",
              "      <th>rating</th>\n",
              "      <td>0.0</td>\n",
              "    </tr>\n",
              "  </tbody>\n",
              "</table>\n",
              "</div><br><label><b>dtype:</b> float64</label>"
            ]
          },
          "metadata": {},
          "execution_count": 17
        }
      ],
      "source": [
        "# Check for missing values present and provide observations\n",
        "round(df_final.isnull().sum()/ df_final.isnull().count() * 100, 2)"
      ]
    },
    {
      "cell_type": "markdown",
      "metadata": {
        "id": "qMWuBNhI5JtR"
      },
      "source": [
        "**Write your observations here:______**"
      ]
    },
    {
      "cell_type": "markdown",
      "metadata": {
        "id": "wETrCg48-sVG"
      },
      "source": [
        "### **Summary Statistics**"
      ]
    },
    {
      "cell_type": "code",
      "execution_count": 18,
      "metadata": {
        "id": "tYm30MXR5JtR",
        "colab": {
          "base_uri": "https://localhost:8080/",
          "height": 335
        },
        "outputId": "e67f18af-8f29-4de9-fe52-39ae53021922"
      },
      "outputs": [
        {
          "output_type": "execute_result",
          "data": {
            "text/plain": [
              "count    65290.000000\n",
              "mean         4.294808\n",
              "std          0.988915\n",
              "min          1.000000\n",
              "25%          4.000000\n",
              "50%          5.000000\n",
              "75%          5.000000\n",
              "max          5.000000\n",
              "Name: rating, dtype: float64"
            ],
            "text/html": [
              "<div>\n",
              "<style scoped>\n",
              "    .dataframe tbody tr th:only-of-type {\n",
              "        vertical-align: middle;\n",
              "    }\n",
              "\n",
              "    .dataframe tbody tr th {\n",
              "        vertical-align: top;\n",
              "    }\n",
              "\n",
              "    .dataframe thead th {\n",
              "        text-align: right;\n",
              "    }\n",
              "</style>\n",
              "<table border=\"1\" class=\"dataframe\">\n",
              "  <thead>\n",
              "    <tr style=\"text-align: right;\">\n",
              "      <th></th>\n",
              "      <th>rating</th>\n",
              "    </tr>\n",
              "  </thead>\n",
              "  <tbody>\n",
              "    <tr>\n",
              "      <th>count</th>\n",
              "      <td>65290.000000</td>\n",
              "    </tr>\n",
              "    <tr>\n",
              "      <th>mean</th>\n",
              "      <td>4.294808</td>\n",
              "    </tr>\n",
              "    <tr>\n",
              "      <th>std</th>\n",
              "      <td>0.988915</td>\n",
              "    </tr>\n",
              "    <tr>\n",
              "      <th>min</th>\n",
              "      <td>1.000000</td>\n",
              "    </tr>\n",
              "    <tr>\n",
              "      <th>25%</th>\n",
              "      <td>4.000000</td>\n",
              "    </tr>\n",
              "    <tr>\n",
              "      <th>50%</th>\n",
              "      <td>5.000000</td>\n",
              "    </tr>\n",
              "    <tr>\n",
              "      <th>75%</th>\n",
              "      <td>5.000000</td>\n",
              "    </tr>\n",
              "    <tr>\n",
              "      <th>max</th>\n",
              "      <td>5.000000</td>\n",
              "    </tr>\n",
              "  </tbody>\n",
              "</table>\n",
              "</div><br><label><b>dtype:</b> float64</label>"
            ]
          },
          "metadata": {},
          "execution_count": 18
        }
      ],
      "source": [
        "# Summary statistics of 'rating' variable and provide observations\n",
        "df_final['rating'].describe().T"
      ]
    },
    {
      "cell_type": "markdown",
      "metadata": {
        "id": "VqW50EIJxhXc"
      },
      "source": [
        "**Write your observations here:______**"
      ]
    },
    {
      "cell_type": "markdown",
      "metadata": {
        "id": "ywyFrZIf5JtR"
      },
      "source": [
        "### **Checking the rating distribution**"
      ]
    },
    {
      "cell_type": "code",
      "execution_count": 19,
      "metadata": {
        "id": "QbqhbEVe-sVH",
        "colab": {
          "base_uri": "https://localhost:8080/",
          "height": 550
        },
        "outputId": "d5f87091-e495-4bd0-d2a7-a8d61a280473"
      },
      "outputs": [
        {
          "output_type": "display_data",
          "data": {
            "text/plain": [
              "<Figure size 1200x600 with 1 Axes>"
            ],
            "image/png": "[encoded data removed]"
          },
          "metadata": {}
        }
      ],
      "source": [
        "# Create the bar plot and provide observations\n",
        "plt.figure(figsize = (12, 6))\n",
        "\n",
        "df_final['rating'].value_counts(1).plot(kind = 'bar')\n",
        "\n",
        "plt.show()"
      ]
    },
    {
      "cell_type": "markdown",
      "metadata": {
        "id": "t0jONrQv-sVH"
      },
      "source": [
        "**Write your observations here:________**"
      ]
    },
    {
      "cell_type": "markdown",
      "metadata": {
        "id": "HefpLdLJxhXd"
      },
      "source": [
        "### **Checking the number of unique users and items in the dataset**"
      ]
    },
    {
      "cell_type": "code",
      "execution_count": 20,
      "metadata": {
        "colab": {
          "base_uri": "https://localhost:8080/"
        },
        "id": "NbSom7195JtR",
        "outputId": "a4685905-5c80-4193-aaad-e68c3ab706fe"
      },
      "outputs": [
        {
          "output_type": "stream",
          "name": "stdout",
          "text": [
            "The number of observations in the final data =  65290\n",
            "Number of unique USERS in Raw data =  1540\n",
            "Number of unique ITEMS in Raw data =  5689\n"
          ]
        }
      ],
      "source": [
        "# Number of total rows in the data and number of unique user id and product id in the data\n",
        "\n",
        "print('The number of observations in the final data = ', len(df_final))\n",
        "print('Number of unique USERS in Raw data = ', df_final['user_id'].nunique())\n",
        "print('Number of unique ITEMS in Raw data = ', df_final['prod_id'].nunique())"
      ]
    },
    {
      "cell_type": "markdown",
      "metadata": {
        "id": "Qwgz6CUt-sVI"
      },
      "source": [
        "**Write your observations here:________**"
      ]
    },
    {
      "cell_type": "markdown",
      "metadata": {
        "id": "RfDnhSS4-sVI"
      },
      "source": [
        "### **Users with the most number of ratings**"
      ]
    },
    {
      "cell_type": "code",
      "execution_count": 21,
      "metadata": {
        "colab": {
          "base_uri": "https://localhost:8080/",
          "height": 429
        },
        "id": "n7MX452q5JtR",
        "outputId": "31842d41-2d9f-4ebc-e067-57089a0d1f51"
      },
      "outputs": [
        {
          "output_type": "execute_result",
          "data": {
            "text/plain": [
              "user_id\n",
              "ADLVFFE4VBT8      295\n",
              "A3OXHLG6DIBRW8    230\n",
              "A1ODOGXEYECQQ8    217\n",
              "A36K2N527TXXJN    212\n",
              "A25C2M3QF9G7OQ    203\n",
              "A680RUE1FDO8B     196\n",
              "A1UQBFCERIP7VJ    193\n",
              "A22CW0ZHY3NJH8    193\n",
              "AWPODHOB4GFWL     184\n",
              "A3LGT6UZL99IW1    179\n",
              "dtype: int64"
            ],
            "text/html": [
              "<div>\n",
              "<style scoped>\n",
              "    .dataframe tbody tr th:only-of-type {\n",
              "        vertical-align: middle;\n",
              "    }\n",
              "\n",
              "    .dataframe tbody tr th {\n",
              "        vertical-align: top;\n",
              "    }\n",
              "\n",
              "    .dataframe thead th {\n",
              "        text-align: right;\n",
              "    }\n",
              "</style>\n",
              "<table border=\"1\" class=\"dataframe\">\n",
              "  <thead>\n",
              "    <tr style=\"text-align: right;\">\n",
              "      <th></th>\n",
              "      <th>0</th>\n",
              "    </tr>\n",
              "    <tr>\n",
              "      <th>user_id</th>\n",
              "      <th></th>\n",
              "    </tr>\n",
              "  </thead>\n",
              "  <tbody>\n",
              "    <tr>\n",
              "      <th>ADLVFFE4VBT8</th>\n",
              "      <td>295</td>\n",
              "    </tr>\n",
              "    <tr>\n",
              "      <th>A3OXHLG6DIBRW8</th>\n",
              "      <td>230</td>\n",
              "    </tr>\n",
              "    <tr>\n",
              "      <th>A1ODOGXEYECQQ8</th>\n",
              "      <td>217</td>\n",
              "    </tr>\n",
              "    <tr>\n",
              "      <th>A36K2N527TXXJN</th>\n",
              "      <td>212</td>\n",
              "    </tr>\n",
              "    <tr>\n",
              "      <th>A25C2M3QF9G7OQ</th>\n",
              "      <td>203</td>\n",
              "    </tr>\n",
              "    <tr>\n",
              "      <th>A680RUE1FDO8B</th>\n",
              "      <td>196</td>\n",
              "    </tr>\n",
              "    <tr>\n",
              "      <th>A1UQBFCERIP7VJ</th>\n",
              "      <td>193</td>\n",
              "    </tr>\n",
              "    <tr>\n",
              "      <th>A22CW0ZHY3NJH8</th>\n",
              "      <td>193</td>\n",
              "    </tr>\n",
              "    <tr>\n",
              "      <th>AWPODHOB4GFWL</th>\n",
              "      <td>184</td>\n",
              "    </tr>\n",
              "    <tr>\n",
              "      <th>A3LGT6UZL99IW1</th>\n",
              "      <td>179</td>\n",
              "    </tr>\n",
              "  </tbody>\n",
              "</table>\n",
              "</div><br><label><b>dtype:</b> int64</label>"
            ]
          },
          "metadata": {},
          "execution_count": 21
        }
      ],
      "source": [
        "# Top 10 users based on the number of ratings\n",
        "most_rated = df_final.groupby('user_id').size().sort_values(ascending = False)[:10]\n",
        "most_rated"
      ]
    },
    {
      "cell_type": "markdown",
      "metadata": {
        "id": "1X2w_jt9-sVI"
      },
      "source": [
        "- The highest number of **ratings by a user is 295** which is far from the actual number of products present in the data. We can build a recommendation system to recommend products to users which they have not interacted with."
      ]
    },
    {
      "cell_type": "markdown",
      "metadata": {
        "id": "EnYTx-Ol-sVg"
      },
      "source": [
        "**Now that we have explored and prepared the data, let's build the first recommendation system.**"
      ]
    },
    {
      "cell_type": "markdown",
      "metadata": {
        "id": "6xYGrGVy5JtS"
      },
      "source": [
        "## **Model 1: Rank Based Recommendation System**"
      ]
    },
    {
      "cell_type": "code",
      "execution_count": 22,
      "metadata": {
        "colab": {
          "base_uri": "https://localhost:8080/",
          "height": 206
        },
        "id": "gHcPIZu_YoXC",
        "outputId": "e772257f-f6df-4576-9cbd-6a75d1b19521"
      },
      "outputs": [
        {
          "output_type": "execute_result",
          "data": {
            "text/plain": [
              "             user_id     prod_id  rating\n",
              "1310  A3LDPF5FMB782Z  1400501466     5.0\n",
              "1322  A1A5KUIIIHFF4U  1400501466     1.0\n",
              "1335  A2XIOXRRYX0KZY  1400501466     3.0\n",
              "1451   AW3LX47IHPFRL  1400501466     5.0\n",
              "1456  A1E3OB6QMBKRYZ  1400501466     1.0"
            ],
            "text/html": [
              "\n",
              "  <div id=\"df-2dec6d8c-bad9-4885-a22d-3247913c9745\" class=\"colab-df-container\">\n",
              "    <div>\n",
              "<style scoped>\n",
              "    .dataframe tbody tr th:only-of-type {\n",
              "        vertical-align: middle;\n",
              "    }\n",
              "\n",
              "    .dataframe tbody tr th {\n",
              "        vertical-align: top;\n",
              "    }\n",
              "\n",
              "    .dataframe thead th {\n",
              "        text-align: right;\n",
              "    }\n",
              "</style>\n",
              "<table border=\"1\" class=\"dataframe\">\n",
              "  <thead>\n",
              "    <tr style=\"text-align: right;\">\n",
              "      <th></th>\n",
              "      <th>user_id</th>\n",
              "      <th>prod_id</th>\n",
              "      <th>rating</th>\n",
              "    </tr>\n",
              "  </thead>\n",
              "  <tbody>\n",
              "    <tr>\n",
              "      <th>1310</th>\n",
              "      <td>A3LDPF5FMB782Z</td>\n",
              "      <td>1400501466</td>\n",
              "      <td>5.0</td>\n",
              "    </tr>\n",
              "    <tr>\n",
              "      <th>1322</th>\n",
              "      <td>A1A5KUIIIHFF4U</td>\n",
              "      <td>1400501466</td>\n",
              "      <td>1.0</td>\n",
              "    </tr>\n",
              "    <tr>\n",
              "      <th>1335</th>\n",
              "      <td>A2XIOXRRYX0KZY</td>\n",
              "      <td>1400501466</td>\n",
              "      <td>3.0</td>\n",
              "    </tr>\n",
              "    <tr>\n",
              "      <th>1451</th>\n",
              "      <td>AW3LX47IHPFRL</td>\n",
              "      <td>1400501466</td>\n",
              "      <td>5.0</td>\n",
              "    </tr>\n",
              "    <tr>\n",
              "      <th>1456</th>\n",
              "      <td>A1E3OB6QMBKRYZ</td>\n",
              "      <td>1400501466</td>\n",
              "      <td>1.0</td>\n",
              "    </tr>\n",
              "  </tbody>\n",
              "</table>\n",
              "</div>\n",
              "    <div class=\"colab-df-buttons\">\n",
              "\n",
              "  <div class=\"colab-df-container\">\n",
              "    <button class=\"colab-df-convert\" onclick=\"convertToInteractive('df-2dec6d8c-bad9-4885-a22d-3247913c9745')\"\n",
              "            title=\"Convert this dataframe to an interactive table.\"\n",
              "            style=\"display:none;\">\n",
              "\n",
              "  <svg xmlns=\"http://www.w3.org/2000/svg\" height=\"24px\" viewBox=\"0 -960 960 960\">\n",
              "    <path d=\"M120-120v-720h720v720H120Zm60-500h600v-160H180v160Zm220 220h160v-160H400v160Zm0 220h160v-160H400v160ZM180-400h160v-160H180v160Zm440 0h160v-160H620v160ZM180-180h160v-160H180v160Zm440 0h160v-160H620v160Z\"/>\n",
              "  </svg>\n",
              "    </button>\n",
              "\n",
              "  <style>\n",
              "    .colab-df-container {\n",
              "      display:flex;\n",
              "      gap: 12px;\n",
              "    }\n",
              "\n",
              "    .colab-df-convert {\n",
              "      background-color: #E8F0FE;\n",
              "      border: none;\n",
              "      border-radius: 50%;\n",
              "      cursor: pointer;\n",
              "      display: none;\n",
              "      fill: #1967D2;\n",
              "      height: 32px;\n",
              "      padding: 0 0 0 0;\n",
              "      width: 32px;\n",
              "    }\n",
              "\n",
              "    .colab-df-convert:hover {\n",
              "      background-color: #E2EBFA;\n",
              "      box-shadow: 0px 1px 2px rgba(60, 64, 67, 0.3), 0px 1px 3px 1px rgba(60, 64, 67, 0.15);\n",
              "      fill: #174EA6;\n",
              "    }\n",
              "\n",
              "    .colab-df-buttons div {\n",
              "      margin-bottom: 4px;\n",
              "    }\n",
              "\n",
              "    [theme=dark] .colab-df-convert {\n",
              "      background-color: #3B4455;\n",
              "      fill: #D2E3FC;\n",
              "    }\n",
              "\n",
              "    [theme=dark] .colab-df-convert:hover {\n",
              "      background-color: #434B5C;\n",
              "      box-shadow: 0px 1px 3px 1px rgba(0, 0, 0, 0.15);\n",
              "      filter: drop-shadow(0px 1px 2px rgba(0, 0, 0, 0.3));\n",
              "      fill: #FFFFFF;\n",
              "    }\n",
              "  </style>\n",
              "\n",
              "    <script>\n",
              "      const buttonEl =\n",
              "        document.querySelector('#df-2dec6d8c-bad9-4885-a22d-3247913c9745 button.colab-df-convert');\n",
              "      buttonEl.style.display =\n",
              "        google.colab.kernel.accessAllowed ? 'block' : 'none';\n",
              "\n",
              "      async function convertToInteractive(key) {\n",
              "        const element = document.querySelector('#df-2dec6d8c-bad9-4885-a22d-3247913c9745');\n",
              "        const dataTable =\n",
              "          await google.colab.kernel.invokeFunction('convertToInteractive',\n",
              "                                                    [key], {});\n",
              "        if (!dataTable) return;\n",
              "\n",
              "        const docLinkHtml = 'Like what you see? Visit the ' +\n",
              "          '<a target=\"_blank\" href=https://colab.research.google.com/notebooks/data_table.ipynb>data table notebook</a>'\n",
              "          + ' to learn more about interactive tables.';\n",
              "        element.innerHTML = '';\n",
              "        dataTable['output_type'] = 'display_data';\n",
              "        await google.colab.output.renderOutput(dataTable, element);\n",
              "        const docLink = document.createElement('div');\n",
              "        docLink.innerHTML = docLinkHtml;\n",
              "        element.appendChild(docLink);\n",
              "      }\n",
              "    </script>\n",
              "  </div>\n",
              "\n",
              "\n",
              "<div id=\"df-ecc10939-f865-44d7-9429-43af7cabfd81\">\n",
              "  <button class=\"colab-df-quickchart\" onclick=\"quickchart('df-ecc10939-f865-44d7-9429-43af7cabfd81')\"\n",
              "            title=\"Suggest charts\"\n",
              "            style=\"display:none;\">\n",
              "\n",
              "<svg xmlns=\"http://www.w3.org/2000/svg\" height=\"24px\"viewBox=\"0 0 24 24\"\n",
              "     width=\"24px\">\n",
              "    <g>\n",
              "        <path d=\"M19 3H5c-1.1 0-2 .9-2 2v14c0 1.1.9 2 2 2h14c1.1 0 2-.9 2-2V5c0-1.1-.9-2-2-2zM9 17H7v-7h2v7zm4 0h-2V7h2v10zm4 0h-2v-4h2v4z\"/>\n",
              "    </g>\n",
              "</svg>\n",
              "  </button>\n",
              "\n",
              "<style>\n",
              "  .colab-df-quickchart {\n",
              "      --bg-color: #E8F0FE;\n",
              "      --fill-color: #1967D2;\n",
              "      --hover-bg-color: #E2EBFA;\n",
              "      --hover-fill-color: #174EA6;\n",
              "      --disabled-fill-color: #AAA;\n",
              "      --disabled-bg-color: #DDD;\n",
              "  }\n",
              "\n",
              "  [theme=dark] .colab-df-quickchart {\n",
              "      --bg-color: #3B4455;\n",
              "      --fill-color: #D2E3FC;\n",
              "      --hover-bg-color: #434B5C;\n",
              "      --hover-fill-color: #FFFFFF;\n",
              "      --disabled-bg-color: #3B4455;\n",
              "      --disabled-fill-color: #666;\n",
              "  }\n",
              "\n",
              "  .colab-df-quickchart {\n",
              "    background-color: var(--bg-color);\n",
              "    border: none;\n",
              "    border-radius: 50%;\n",
              "    cursor: pointer;\n",
              "    display: none;\n",
              "    fill: var(--fill-color);\n",
              "    height: 32px;\n",
              "    padding: 0;\n",
              "    width: 32px;\n",
              "  }\n",
              "\n",
              "  .colab-df-quickchart:hover {\n",
              "    background-color: var(--hover-bg-color);\n",
              "    box-shadow: 0 1px 2px rgba(60, 64, 67, 0.3), 0 1px 3px 1px rgba(60, 64, 67, 0.15);\n",
              "    fill: var(--button-hover-fill-color);\n",
              "  }\n",
              "\n",
              "  .colab-df-quickchart-complete:disabled,\n",
              "  .colab-df-quickchart-complete:disabled:hover {\n",
              "    background-color: var(--disabled-bg-color);\n",
              "    fill: var(--disabled-fill-color);\n",
              "    box-shadow: none;\n",
              "  }\n",
              "\n",
              "  .colab-df-spinner {\n",
              "    border: 2px solid var(--fill-color);\n",
              "    border-color: transparent;\n",
              "    border-bottom-color: var(--fill-color);\n",
              "    animation:\n",
              "      spin 1s steps(1) infinite;\n",
              "  }\n",
              "\n",
              "  @keyframes spin {\n",
              "    0% {\n",
              "      border-color: transparent;\n",
              "      border-bottom-color: var(--fill-color);\n",
              "      border-left-color: var(--fill-color);\n",
              "    }\n",
              "    20% {\n",
              "      border-color: transparent;\n",
              "      border-left-color: var(--fill-color);\n",
              "      border-top-color: var(--fill-color);\n",
              "    }\n",
              "    30% {\n",
              "      border-color: transparent;\n",
              "      border-left-color: var(--fill-color);\n",
              "      border-top-color: var(--fill-color);\n",
              "      border-right-color: var(--fill-color);\n",
              "    }\n",
              "    40% {\n",
              "      border-color: transparent;\n",
              "      border-right-color: var(--fill-color);\n",
              "      border-top-color: var(--fill-color);\n",
              "    }\n",
              "    60% {\n",
              "      border-color: transparent;\n",
              "      border-right-color: var(--fill-color);\n",
              "    }\n",
              "    80% {\n",
              "      border-color: transparent;\n",
              "      border-right-color: var(--fill-color);\n",
              "      border-bottom-color: var(--fill-color);\n",
              "    }\n",
              "    90% {\n",
              "      border-color: transparent;\n",
              "      border-bottom-color: var(--fill-color);\n",
              "    }\n",
              "  }\n",
              "</style>\n",
              "\n",
              "  <script>\n",
              "    async function quickchart(key) {\n",
              "      const quickchartButtonEl =\n",
              "        document.querySelector('#' + key + ' button');\n",
              "      quickchartButtonEl.disabled = true;  // To prevent multiple clicks.\n",
              "      quickchartButtonEl.classList.add('colab-df-spinner');\n",
              "      try {\n",
              "        const charts = await google.colab.kernel.invokeFunction(\n",
              "            'suggestCharts', [key], {});\n",
              "      } catch (error) {\n",
              "        console.error('Error during call to suggestCharts:', error);\n",
              "      }\n",
              "      quickchartButtonEl.classList.remove('colab-df-spinner');\n",
              "      quickchartButtonEl.classList.add('colab-df-quickchart-complete');\n",
              "    }\n",
              "    (() => {\n",
              "      let quickchartButtonEl =\n",
              "        document.querySelector('#df-ecc10939-f865-44d7-9429-43af7cabfd81 button');\n",
              "      quickchartButtonEl.style.display =\n",
              "        google.colab.kernel.accessAllowed ? 'block' : 'none';\n",
              "    })();\n",
              "  </script>\n",
              "</div>\n",
              "\n",
              "    </div>\n",
              "  </div>\n"
            ],
            "application/vnd.google.colaboratory.intrinsic+json": {
              "type": "dataframe",
              "variable_name": "df_final",
              "summary": "{\n  \"name\": \"df_final\",\n  \"rows\": 65290,\n  \"fields\": [\n    {\n      \"column\": \"user_id\",\n      \"properties\": {\n        \"dtype\": \"category\",\n        \"num_unique_values\": 1540,\n        \"samples\": [\n          \"A1VJ0V58N0698J\",\n          \"A14X244VGHWPSX\",\n          \"A14JBDSWKPKTZA\"\n        ],\n        \"semantic_type\": \"\",\n        \"description\": \"\"\n      }\n    },\n    {\n      \"column\": \"prod_id\",\n      \"properties\": {\n        \"dtype\": \"category\",\n        \"num_unique_values\": 5689,\n        \"samples\": [\n          \"B005EOWBHC\",\n          \"B00BB72WX4\",\n          \"B00B9AB26G\"\n        ],\n        \"semantic_type\": \"\",\n        \"description\": \"\"\n      }\n    },\n    {\n      \"column\": \"rating\",\n      \"properties\": {\n        \"dtype\": \"number\",\n        \"std\": 0.9889148020338726,\n        \"min\": 1.0,\n        \"max\": 5.0,\n        \"num_unique_values\": 5,\n        \"samples\": [\n          1.0,\n          2.0,\n          3.0\n        ],\n        \"semantic_type\": \"\",\n        \"description\": \"\"\n      }\n    }\n  ]\n}"
            }
          },
          "metadata": {},
          "execution_count": 22
        }
      ],
      "source": [
        "df_final.head()"
      ]
    },
    {
      "cell_type": "markdown",
      "metadata": {
        "id": "a8INahjvNF2Y"
      },
      "source": [
        "### Steps:\n",
        "\n",
        "- **Create the final_rating DataFrame**\n",
        "- **Complete the code to create the function top_n_products**\n",
        "- **Recommending top 5 products with 50 minimum interactions based on popularity**\n",
        "- **Recommending top 5 products with 100 minimum interactions based on popularity**"
      ]
    },
    {
      "cell_type": "code",
      "execution_count": 23,
      "metadata": {
        "id": "yxZTj1UPxhXh",
        "scrolled": true,
        "colab": {
          "base_uri": "https://localhost:8080/",
          "height": 394
        },
        "outputId": "c44def3f-038a-4fda-9f02-0f251efbf7c1"
      },
      "outputs": [
        {
          "output_type": "execute_result",
          "data": {
            "text/plain": [
              "            average_rating  rating_count\n",
              "prod_id                                 \n",
              "B00000DM9W             5.0             5\n",
              "B00000K4KH             5.0             5\n",
              "B00LGQ6HL8             5.0             5\n",
              "B00L3YHF6O             5.0            14\n",
              "B00JWXTOIA             5.0             7\n",
              "B00004SY4H             5.0             5\n",
              "B000KUQ8FG             5.0             5\n",
              "B000N4WRFY             5.0             5\n",
              "B000OFWJO6             5.0             8\n",
              "B000O8JZIG             5.0             6"
            ],
            "text/html": [
              "\n",
              "  <div id=\"df-73071f7e-4af0-4466-b67e-f235405e725e\" class=\"colab-df-container\">\n",
              "    <div>\n",
              "<style scoped>\n",
              "    .dataframe tbody tr th:only-of-type {\n",
              "        vertical-align: middle;\n",
              "    }\n",
              "\n",
              "    .dataframe tbody tr th {\n",
              "        vertical-align: top;\n",
              "    }\n",
              "\n",
              "    .dataframe thead th {\n",
              "        text-align: right;\n",
              "    }\n",
              "</style>\n",
              "<table border=\"1\" class=\"dataframe\">\n",
              "  <thead>\n",
              "    <tr style=\"text-align: right;\">\n",
              "      <th></th>\n",
              "      <th>average_rating</th>\n",
              "      <th>rating_count</th>\n",
              "    </tr>\n",
              "    <tr>\n",
              "      <th>prod_id</th>\n",
              "      <th></th>\n",
              "      <th></th>\n",
              "    </tr>\n",
              "  </thead>\n",
              "  <tbody>\n",
              "    <tr>\n",
              "      <th>B00000DM9W</th>\n",
              "      <td>5.0</td>\n",
              "      <td>5</td>\n",
              "    </tr>\n",
              "    <tr>\n",
              "      <th>B00000K4KH</th>\n",
              "      <td>5.0</td>\n",
              "      <td>5</td>\n",
              "    </tr>\n",
              "    <tr>\n",
              "      <th>B00LGQ6HL8</th>\n",
              "      <td>5.0</td>\n",
              "      <td>5</td>\n",
              "    </tr>\n",
              "    <tr>\n",
              "      <th>B00L3YHF6O</th>\n",
              "      <td>5.0</td>\n",
              "      <td>14</td>\n",
              "    </tr>\n",
              "    <tr>\n",
              "      <th>B00JWXTOIA</th>\n",
              "      <td>5.0</td>\n",
              "      <td>7</td>\n",
              "    </tr>\n",
              "    <tr>\n",
              "      <th>B00004SY4H</th>\n",
              "      <td>5.0</td>\n",
              "      <td>5</td>\n",
              "    </tr>\n",
              "    <tr>\n",
              "      <th>B000KUQ8FG</th>\n",
              "      <td>5.0</td>\n",
              "      <td>5</td>\n",
              "    </tr>\n",
              "    <tr>\n",
              "      <th>B000N4WRFY</th>\n",
              "      <td>5.0</td>\n",
              "      <td>5</td>\n",
              "    </tr>\n",
              "    <tr>\n",
              "      <th>B000OFWJO6</th>\n",
              "      <td>5.0</td>\n",
              "      <td>8</td>\n",
              "    </tr>\n",
              "    <tr>\n",
              "      <th>B000O8JZIG</th>\n",
              "      <td>5.0</td>\n",
              "      <td>6</td>\n",
              "    </tr>\n",
              "  </tbody>\n",
              "</table>\n",
              "</div>\n",
              "    <div class=\"colab-df-buttons\">\n",
              "\n",
              "  <div class=\"colab-df-container\">\n",
              "    <button class=\"colab-df-convert\" onclick=\"convertToInteractive('df-73071f7e-4af0-4466-b67e-f235405e725e')\"\n",
              "            title=\"Convert this dataframe to an interactive table.\"\n",
              "            style=\"display:none;\">\n",
              "\n",
              "  <svg xmlns=\"http://www.w3.org/2000/svg\" height=\"24px\" viewBox=\"0 -960 960 960\">\n",
              "    <path d=\"M120-120v-720h720v720H120Zm60-500h600v-160H180v160Zm220 220h160v-160H400v160Zm0 220h160v-160H400v160ZM180-400h160v-160H180v160Zm440 0h160v-160H620v160ZM180-180h160v-160H180v160Zm440 0h160v-160H620v160Z\"/>\n",
              "  </svg>\n",
              "    </button>\n",
              "\n",
              "  <style>\n",
              "    .colab-df-container {\n",
              "      display:flex;\n",
              "      gap: 12px;\n",
              "    }\n",
              "\n",
              "    .colab-df-convert {\n",
              "      background-color: #E8F0FE;\n",
              "      border: none;\n",
              "      border-radius: 50%;\n",
              "      cursor: pointer;\n",
              "      display: none;\n",
              "      fill: #1967D2;\n",
              "      height: 32px;\n",
              "      padding: 0 0 0 0;\n",
              "      width: 32px;\n",
              "    }\n",
              "\n",
              "    .colab-df-convert:hover {\n",
              "      background-color: #E2EBFA;\n",
              "      box-shadow: 0px 1px 2px rgba(60, 64, 67, 0.3), 0px 1px 3px 1px rgba(60, 64, 67, 0.15);\n",
              "      fill: #174EA6;\n",
              "    }\n",
              "\n",
              "    .colab-df-buttons div {\n",
              "      margin-bottom: 4px;\n",
              "    }\n",
              "\n",
              "    [theme=dark] .colab-df-convert {\n",
              "      background-color: #3B4455;\n",
              "      fill: #D2E3FC;\n",
              "    }\n",
              "\n",
              "    [theme=dark] .colab-df-convert:hover {\n",
              "      background-color: #434B5C;\n",
              "      box-shadow: 0px 1px 3px 1px rgba(0, 0, 0, 0.15);\n",
              "      filter: drop-shadow(0px 1px 2px rgba(0, 0, 0, 0.3));\n",
              "      fill: #FFFFFF;\n",
              "    }\n",
              "  </style>\n",
              "\n",
              "    <script>\n",
              "      const buttonEl =\n",
              "        document.querySelector('#df-73071f7e-4af0-4466-b67e-f235405e725e button.colab-df-convert');\n",
              "      buttonEl.style.display =\n",
              "        google.colab.kernel.accessAllowed ? 'block' : 'none';\n",
              "\n",
              "      async function convertToInteractive(key) {\n",
              "        const element = document.querySelector('#df-73071f7e-4af0-4466-b67e-f235405e725e');\n",
              "        const dataTable =\n",
              "          await google.colab.kernel.invokeFunction('convertToInteractive',\n",
              "                                                    [key], {});\n",
              "        if (!dataTable) return;\n",
              "\n",
              "        const docLinkHtml = 'Like what you see? Visit the ' +\n",
              "          '<a target=\"_blank\" href=https://colab.research.google.com/notebooks/data_table.ipynb>data table notebook</a>'\n",
              "          + ' to learn more about interactive tables.';\n",
              "        element.innerHTML = '';\n",
              "        dataTable['output_type'] = 'display_data';\n",
              "        await google.colab.output.renderOutput(dataTable, element);\n",
              "        const docLink = document.createElement('div');\n",
              "        docLink.innerHTML = docLinkHtml;\n",
              "        element.appendChild(docLink);\n",
              "      }\n",
              "    </script>\n",
              "  </div>\n",
              "\n",
              "\n",
              "<div id=\"df-44535e2b-881e-4e05-840c-4bc9f44f3576\">\n",
              "  <button class=\"colab-df-quickchart\" onclick=\"quickchart('df-44535e2b-881e-4e05-840c-4bc9f44f3576')\"\n",
              "            title=\"Suggest charts\"\n",
              "            style=\"display:none;\">\n",
              "\n",
              "<svg xmlns=\"http://www.w3.org/2000/svg\" height=\"24px\"viewBox=\"0 0 24 24\"\n",
              "     width=\"24px\">\n",
              "    <g>\n",
              "        <path d=\"M19 3H5c-1.1 0-2 .9-2 2v14c0 1.1.9 2 2 2h14c1.1 0 2-.9 2-2V5c0-1.1-.9-2-2-2zM9 17H7v-7h2v7zm4 0h-2V7h2v10zm4 0h-2v-4h2v4z\"/>\n",
              "    </g>\n",
              "</svg>\n",
              "  </button>\n",
              "\n",
              "<style>\n",
              "  .colab-df-quickchart {\n",
              "      --bg-color: #E8F0FE;\n",
              "      --fill-color: #1967D2;\n",
              "      --hover-bg-color: #E2EBFA;\n",
              "      --hover-fill-color: #174EA6;\n",
              "      --disabled-fill-color: #AAA;\n",
              "      --disabled-bg-color: #DDD;\n",
              "  }\n",
              "\n",
              "  [theme=dark] .colab-df-quickchart {\n",
              "      --bg-color: #3B4455;\n",
              "      --fill-color: #D2E3FC;\n",
              "      --hover-bg-color: #434B5C;\n",
              "      --hover-fill-color: #FFFFFF;\n",
              "      --disabled-bg-color: #3B4455;\n",
              "      --disabled-fill-color: #666;\n",
              "  }\n",
              "\n",
              "  .colab-df-quickchart {\n",
              "    background-color: var(--bg-color);\n",
              "    border: none;\n",
              "    border-radius: 50%;\n",
              "    cursor: pointer;\n",
              "    display: none;\n",
              "    fill: var(--fill-color);\n",
              "    height: 32px;\n",
              "    padding: 0;\n",
              "    width: 32px;\n",
              "  }\n",
              "\n",
              "  .colab-df-quickchart:hover {\n",
              "    background-color: var(--hover-bg-color);\n",
              "    box-shadow: 0 1px 2px rgba(60, 64, 67, 0.3), 0 1px 3px 1px rgba(60, 64, 67, 0.15);\n",
              "    fill: var(--button-hover-fill-color);\n",
              "  }\n",
              "\n",
              "  .colab-df-quickchart-complete:disabled,\n",
              "  .colab-df-quickchart-complete:disabled:hover {\n",
              "    background-color: var(--disabled-bg-color);\n",
              "    fill: var(--disabled-fill-color);\n",
              "    box-shadow: none;\n",
              "  }\n",
              "\n",
              "  .colab-df-spinner {\n",
              "    border: 2px solid var(--fill-color);\n",
              "    border-color: transparent;\n",
              "    border-bottom-color: var(--fill-color);\n",
              "    animation:\n",
              "      spin 1s steps(1) infinite;\n",
              "  }\n",
              "\n",
              "  @keyframes spin {\n",
              "    0% {\n",
              "      border-color: transparent;\n",
              "      border-bottom-color: var(--fill-color);\n",
              "      border-left-color: var(--fill-color);\n",
              "    }\n",
              "    20% {\n",
              "      border-color: transparent;\n",
              "      border-left-color: var(--fill-color);\n",
              "      border-top-color: var(--fill-color);\n",
              "    }\n",
              "    30% {\n",
              "      border-color: transparent;\n",
              "      border-left-color: var(--fill-color);\n",
              "      border-top-color: var(--fill-color);\n",
              "      border-right-color: var(--fill-color);\n",
              "    }\n",
              "    40% {\n",
              "      border-color: transparent;\n",
              "      border-right-color: var(--fill-color);\n",
              "      border-top-color: var(--fill-color);\n",
              "    }\n",
              "    60% {\n",
              "      border-color: transparent;\n",
              "      border-right-color: var(--fill-color);\n",
              "    }\n",
              "    80% {\n",
              "      border-color: transparent;\n",
              "      border-right-color: var(--fill-color);\n",
              "      border-bottom-color: var(--fill-color);\n",
              "    }\n",
              "    90% {\n",
              "      border-color: transparent;\n",
              "      border-bottom-color: var(--fill-color);\n",
              "    }\n",
              "  }\n",
              "</style>\n",
              "\n",
              "  <script>\n",
              "    async function quickchart(key) {\n",
              "      const quickchartButtonEl =\n",
              "        document.querySelector('#' + key + ' button');\n",
              "      quickchartButtonEl.disabled = true;  // To prevent multiple clicks.\n",
              "      quickchartButtonEl.classList.add('colab-df-spinner');\n",
              "      try {\n",
              "        const charts = await google.colab.kernel.invokeFunction(\n",
              "            'suggestCharts', [key], {});\n",
              "      } catch (error) {\n",
              "        console.error('Error during call to suggestCharts:', error);\n",
              "      }\n",
              "      quickchartButtonEl.classList.remove('colab-df-spinner');\n",
              "      quickchartButtonEl.classList.add('colab-df-quickchart-complete');\n",
              "    }\n",
              "    (() => {\n",
              "      let quickchartButtonEl =\n",
              "        document.querySelector('#df-44535e2b-881e-4e05-840c-4bc9f44f3576 button');\n",
              "      quickchartButtonEl.style.display =\n",
              "        google.colab.kernel.accessAllowed ? 'block' : 'none';\n",
              "    })();\n",
              "  </script>\n",
              "</div>\n",
              "\n",
              "    </div>\n",
              "  </div>\n"
            ],
            "application/vnd.google.colaboratory.intrinsic+json": {
              "type": "dataframe",
              "variable_name": "final_rating",
              "summary": "{\n  \"name\": \"final_rating\",\n  \"rows\": 5689,\n  \"fields\": [\n    {\n      \"column\": \"prod_id\",\n      \"properties\": {\n        \"dtype\": \"string\",\n        \"num_unique_values\": 5689,\n        \"samples\": [\n          \"B00BCGRX9M\",\n          \"B00793MIGK\",\n          \"B0029U2YPS\"\n        ],\n        \"semantic_type\": \"\",\n        \"description\": \"\"\n      }\n    },\n    {\n      \"column\": \"average_rating\",\n      \"properties\": {\n        \"dtype\": \"number\",\n        \"std\": 0.5244418871974867,\n        \"min\": 1.375,\n        \"max\": 5.0,\n        \"num_unique_values\": 509,\n        \"samples\": [\n          4.709677419354839,\n          4.052631578947368,\n          2.6666666666666665\n        ],\n        \"semantic_type\": \"\",\n        \"description\": \"\"\n      }\n    },\n    {\n      \"column\": \"rating_count\",\n      \"properties\": {\n        \"dtype\": \"number\",\n        \"std\": 11,\n        \"min\": 5,\n        \"max\": 206,\n        \"num_unique_values\": 93,\n        \"samples\": [\n          41,\n          25,\n          63\n        ],\n        \"semantic_type\": \"\",\n        \"description\": \"\"\n      }\n    }\n  ]\n}"
            }
          },
          "metadata": {},
          "execution_count": 23
        }
      ],
      "source": [
        "# Calculate the average rating for each product\n",
        "average_rating = df_final.groupby('prod_id')['rating'].mean()\n",
        "\n",
        "# Calculate the count of ratings for each product\n",
        "count_rating = df_final.groupby('prod_id')['rating'].count()\n",
        "\n",
        "# Create a dataframe with calculated average and count of ratings\n",
        "final_rating = pd.DataFrame({'average_rating': average_rating, 'rating_count': count_rating})\n",
        "\n",
        "\n",
        "# Sort the dataframe by average of ratings in the descending order\n",
        "final_rating = final_rating.sort_values('average_rating', ascending=False)\n",
        "\n",
        "# See the first five records of the \"final_rating\" dataset\n",
        "final_rating.head(10)"
      ]
    },
    {
      "cell_type": "markdown",
      "metadata": {
        "id": "F8l6373PxhXi"
      },
      "source": [
        "### **Recommending top 5 products with 50 minimum interactions based on popularity**"
      ]
    },
    {
      "cell_type": "code",
      "execution_count": 24,
      "metadata": {
        "id": "dBxdLiM_xhXi",
        "colab": {
          "base_uri": "https://localhost:8080/",
          "height": 237
        },
        "outputId": "e1ec3917-058a-4a2d-d061-4e8f246c27c4"
      },
      "outputs": [
        {
          "output_type": "execute_result",
          "data": {
            "text/plain": [
              "            average_rating  rating_count\n",
              "prod_id                                 \n",
              "B0088CJT4U        4.218447           206\n",
              "B003ES5ZUU        4.864130           184\n",
              "B000N99BBC        4.772455           167\n",
              "B007WTAJTO        4.701220           164\n",
              "B00829TIEK        4.436242           149"
            ],
            "text/html": [
              "\n",
              "  <div id=\"df-e8d44ed0-e511-4e20-8e24-a3f09efdab2a\" class=\"colab-df-container\">\n",
              "    <div>\n",
              "<style scoped>\n",
              "    .dataframe tbody tr th:only-of-type {\n",
              "        vertical-align: middle;\n",
              "    }\n",
              "\n",
              "    .dataframe tbody tr th {\n",
              "        vertical-align: top;\n",
              "    }\n",
              "\n",
              "    .dataframe thead th {\n",
              "        text-align: right;\n",
              "    }\n",
              "</style>\n",
              "<table border=\"1\" class=\"dataframe\">\n",
              "  <thead>\n",
              "    <tr style=\"text-align: right;\">\n",
              "      <th></th>\n",
              "      <th>average_rating</th>\n",
              "      <th>rating_count</th>\n",
              "    </tr>\n",
              "    <tr>\n",
              "      <th>prod_id</th>\n",
              "      <th></th>\n",
              "      <th></th>\n",
              "    </tr>\n",
              "  </thead>\n",
              "  <tbody>\n",
              "    <tr>\n",
              "      <th>B0088CJT4U</th>\n",
              "      <td>4.218447</td>\n",
              "      <td>206</td>\n",
              "    </tr>\n",
              "    <tr>\n",
              "      <th>B003ES5ZUU</th>\n",
              "      <td>4.864130</td>\n",
              "      <td>184</td>\n",
              "    </tr>\n",
              "    <tr>\n",
              "      <th>B000N99BBC</th>\n",
              "      <td>4.772455</td>\n",
              "      <td>167</td>\n",
              "    </tr>\n",
              "    <tr>\n",
              "      <th>B007WTAJTO</th>\n",
              "      <td>4.701220</td>\n",
              "      <td>164</td>\n",
              "    </tr>\n",
              "    <tr>\n",
              "      <th>B00829TIEK</th>\n",
              "      <td>4.436242</td>\n",
              "      <td>149</td>\n",
              "    </tr>\n",
              "  </tbody>\n",
              "</table>\n",
              "</div>\n",
              "    <div class=\"colab-df-buttons\">\n",
              "\n",
              "  <div class=\"colab-df-container\">\n",
              "    <button class=\"colab-df-convert\" onclick=\"convertToInteractive('df-e8d44ed0-e511-4e20-8e24-a3f09efdab2a')\"\n",
              "            title=\"Convert this dataframe to an interactive table.\"\n",
              "            style=\"display:none;\">\n",
              "\n",
              "  <svg xmlns=\"http://www.w3.org/2000/svg\" height=\"24px\" viewBox=\"0 -960 960 960\">\n",
              "    <path d=\"M120-120v-720h720v720H120Zm60-500h600v-160H180v160Zm220 220h160v-160H400v160Zm0 220h160v-160H400v160ZM180-400h160v-160H180v160Zm440 0h160v-160H620v160ZM180-180h160v-160H180v160Zm440 0h160v-160H620v160Z\"/>\n",
              "  </svg>\n",
              "    </button>\n",
              "\n",
              "  <style>\n",
              "    .colab-df-container {\n",
              "      display:flex;\n",
              "      gap: 12px;\n",
              "    }\n",
              "\n",
              "    .colab-df-convert {\n",
              "      background-color: #E8F0FE;\n",
              "      border: none;\n",
              "      border-radius: 50%;\n",
              "      cursor: pointer;\n",
              "      display: none;\n",
              "      fill: #1967D2;\n",
              "      height: 32px;\n",
              "      padding: 0 0 0 0;\n",
              "      width: 32px;\n",
              "    }\n",
              "\n",
              "    .colab-df-convert:hover {\n",
              "      background-color: #E2EBFA;\n",
              "      box-shadow: 0px 1px 2px rgba(60, 64, 67, 0.3), 0px 1px 3px 1px rgba(60, 64, 67, 0.15);\n",
              "      fill: #174EA6;\n",
              "    }\n",
              "\n",
              "    .colab-df-buttons div {\n",
              "      margin-bottom: 4px;\n",
              "    }\n",
              "\n",
              "    [theme=dark] .colab-df-convert {\n",
              "      background-color: #3B4455;\n",
              "      fill: #D2E3FC;\n",
              "    }\n",
              "\n",
              "    [theme=dark] .colab-df-convert:hover {\n",
              "      background-color: #434B5C;\n",
              "      box-shadow: 0px 1px 3px 1px rgba(0, 0, 0, 0.15);\n",
              "      filter: drop-shadow(0px 1px 2px rgba(0, 0, 0, 0.3));\n",
              "      fill: #FFFFFF;\n",
              "    }\n",
              "  </style>\n",
              "\n",
              "    <script>\n",
              "      const buttonEl =\n",
              "        document.querySelector('#df-e8d44ed0-e511-4e20-8e24-a3f09efdab2a button.colab-df-convert');\n",
              "      buttonEl.style.display =\n",
              "        google.colab.kernel.accessAllowed ? 'block' : 'none';\n",
              "\n",
              "      async function convertToInteractive(key) {\n",
              "        const element = document.querySelector('#df-e8d44ed0-e511-4e20-8e24-a3f09efdab2a');\n",
              "        const dataTable =\n",
              "          await google.colab.kernel.invokeFunction('convertToInteractive',\n",
              "                                                    [key], {});\n",
              "        if (!dataTable) return;\n",
              "\n",
              "        const docLinkHtml = 'Like what you see? Visit the ' +\n",
              "          '<a target=\"_blank\" href=https://colab.research.google.com/notebooks/data_table.ipynb>data table notebook</a>'\n",
              "          + ' to learn more about interactive tables.';\n",
              "        element.innerHTML = '';\n",
              "        dataTable['output_type'] = 'display_data';\n",
              "        await google.colab.output.renderOutput(dataTable, element);\n",
              "        const docLink = document.createElement('div');\n",
              "        docLink.innerHTML = docLinkHtml;\n",
              "        element.appendChild(docLink);\n",
              "      }\n",
              "    </script>\n",
              "  </div>\n",
              "\n",
              "\n",
              "<div id=\"df-b40875ed-1108-4110-918e-aa889a795ca6\">\n",
              "  <button class=\"colab-df-quickchart\" onclick=\"quickchart('df-b40875ed-1108-4110-918e-aa889a795ca6')\"\n",
              "            title=\"Suggest charts\"\n",
              "            style=\"display:none;\">\n",
              "\n",
              "<svg xmlns=\"http://www.w3.org/2000/svg\" height=\"24px\"viewBox=\"0 0 24 24\"\n",
              "     width=\"24px\">\n",
              "    <g>\n",
              "        <path d=\"M19 3H5c-1.1 0-2 .9-2 2v14c0 1.1.9 2 2 2h14c1.1 0 2-.9 2-2V5c0-1.1-.9-2-2-2zM9 17H7v-7h2v7zm4 0h-2V7h2v10zm4 0h-2v-4h2v4z\"/>\n",
              "    </g>\n",
              "</svg>\n",
              "  </button>\n",
              "\n",
              "<style>\n",
              "  .colab-df-quickchart {\n",
              "      --bg-color: #E8F0FE;\n",
              "      --fill-color: #1967D2;\n",
              "      --hover-bg-color: #E2EBFA;\n",
              "      --hover-fill-color: #174EA6;\n",
              "      --disabled-fill-color: #AAA;\n",
              "      --disabled-bg-color: #DDD;\n",
              "  }\n",
              "\n",
              "  [theme=dark] .colab-df-quickchart {\n",
              "      --bg-color: #3B4455;\n",
              "      --fill-color: #D2E3FC;\n",
              "      --hover-bg-color: #434B5C;\n",
              "      --hover-fill-color: #FFFFFF;\n",
              "      --disabled-bg-color: #3B4455;\n",
              "      --disabled-fill-color: #666;\n",
              "  }\n",
              "\n",
              "  .colab-df-quickchart {\n",
              "    background-color: var(--bg-color);\n",
              "    border: none;\n",
              "    border-radius: 50%;\n",
              "    cursor: pointer;\n",
              "    display: none;\n",
              "    fill: var(--fill-color);\n",
              "    height: 32px;\n",
              "    padding: 0;\n",
              "    width: 32px;\n",
              "  }\n",
              "\n",
              "  .colab-df-quickchart:hover {\n",
              "    background-color: var(--hover-bg-color);\n",
              "    box-shadow: 0 1px 2px rgba(60, 64, 67, 0.3), 0 1px 3px 1px rgba(60, 64, 67, 0.15);\n",
              "    fill: var(--button-hover-fill-color);\n",
              "  }\n",
              "\n",
              "  .colab-df-quickchart-complete:disabled,\n",
              "  .colab-df-quickchart-complete:disabled:hover {\n",
              "    background-color: var(--disabled-bg-color);\n",
              "    fill: var(--disabled-fill-color);\n",
              "    box-shadow: none;\n",
              "  }\n",
              "\n",
              "  .colab-df-spinner {\n",
              "    border: 2px solid var(--fill-color);\n",
              "    border-color: transparent;\n",
              "    border-bottom-color: var(--fill-color);\n",
              "    animation:\n",
              "      spin 1s steps(1) infinite;\n",
              "  }\n",
              "\n",
              "  @keyframes spin {\n",
              "    0% {\n",
              "      border-color: transparent;\n",
              "      border-bottom-color: var(--fill-color);\n",
              "      border-left-color: var(--fill-color);\n",
              "    }\n",
              "    20% {\n",
              "      border-color: transparent;\n",
              "      border-left-color: var(--fill-color);\n",
              "      border-top-color: var(--fill-color);\n",
              "    }\n",
              "    30% {\n",
              "      border-color: transparent;\n",
              "      border-left-color: var(--fill-color);\n",
              "      border-top-color: var(--fill-color);\n",
              "      border-right-color: var(--fill-color);\n",
              "    }\n",
              "    40% {\n",
              "      border-color: transparent;\n",
              "      border-right-color: var(--fill-color);\n",
              "      border-top-color: var(--fill-color);\n",
              "    }\n",
              "    60% {\n",
              "      border-color: transparent;\n",
              "      border-right-color: var(--fill-color);\n",
              "    }\n",
              "    80% {\n",
              "      border-color: transparent;\n",
              "      border-right-color: var(--fill-color);\n",
              "      border-bottom-color: var(--fill-color);\n",
              "    }\n",
              "    90% {\n",
              "      border-color: transparent;\n",
              "      border-bottom-color: var(--fill-color);\n",
              "    }\n",
              "  }\n",
              "</style>\n",
              "\n",
              "  <script>\n",
              "    async function quickchart(key) {\n",
              "      const quickchartButtonEl =\n",
              "        document.querySelector('#' + key + ' button');\n",
              "      quickchartButtonEl.disabled = true;  // To prevent multiple clicks.\n",
              "      quickchartButtonEl.classList.add('colab-df-spinner');\n",
              "      try {\n",
              "        const charts = await google.colab.kernel.invokeFunction(\n",
              "            'suggestCharts', [key], {});\n",
              "      } catch (error) {\n",
              "        console.error('Error during call to suggestCharts:', error);\n",
              "      }\n",
              "      quickchartButtonEl.classList.remove('colab-df-spinner');\n",
              "      quickchartButtonEl.classList.add('colab-df-quickchart-complete');\n",
              "    }\n",
              "    (() => {\n",
              "      let quickchartButtonEl =\n",
              "        document.querySelector('#df-b40875ed-1108-4110-918e-aa889a795ca6 button');\n",
              "      quickchartButtonEl.style.display =\n",
              "        google.colab.kernel.accessAllowed ? 'block' : 'none';\n",
              "    })();\n",
              "  </script>\n",
              "</div>\n",
              "\n",
              "    </div>\n",
              "  </div>\n"
            ],
            "application/vnd.google.colaboratory.intrinsic+json": {
              "type": "dataframe",
              "variable_name": "popular_products5",
              "summary": "{\n  \"name\": \"popular_products5\",\n  \"rows\": 77,\n  \"fields\": [\n    {\n      \"column\": \"prod_id\",\n      \"properties\": {\n        \"dtype\": \"string\",\n        \"num_unique_values\": 77,\n        \"samples\": [\n          \"B00829TIEK\",\n          \"B003M0NURK\",\n          \"B00834SJNA\"\n        ],\n        \"semantic_type\": \"\",\n        \"description\": \"\"\n      }\n    },\n    {\n      \"column\": \"average_rating\",\n      \"properties\": {\n        \"dtype\": \"number\",\n        \"std\": 0.34725530083683476,\n        \"min\": 2.987012987012987,\n        \"max\": 4.871794871794871,\n        \"num_unique_values\": 74,\n        \"samples\": [\n          4.436241610738255,\n          4.685185185185185,\n          4.473684210526316\n        ],\n        \"semantic_type\": \"\",\n        \"description\": \"\"\n      }\n    },\n    {\n      \"column\": \"rating_count\",\n      \"properties\": {\n        \"dtype\": \"number\",\n        \"std\": 32,\n        \"min\": 50,\n        \"max\": 206,\n        \"num_unique_values\": 48,\n        \"samples\": [\n          76,\n          58,\n          77\n        ],\n        \"semantic_type\": \"\",\n        \"description\": \"\"\n      }\n    }\n  ]\n}"
            }
          },
          "metadata": {},
          "execution_count": 24
        }
      ],
      "source": [
        "popular_products5 = final_rating[final_rating['rating_count']>= 50].sort_values('rating_count', ascending=False)\n",
        "popular_products5.head(5)"
      ]
    },
    {
      "cell_type": "markdown",
      "metadata": {
        "id": "l9_xW_UMxhXj"
      },
      "source": [
        "### **Recommending top 5 products with 100 minimum interactions based on popularity**"
      ]
    },
    {
      "cell_type": "code",
      "execution_count": 25,
      "metadata": {
        "id": "dZgGZCUoxhXj",
        "colab": {
          "base_uri": "https://localhost:8080/",
          "height": 237
        },
        "outputId": "f19e042b-1a03-447c-9a8b-3153a47d5ed0"
      },
      "outputs": [
        {
          "output_type": "execute_result",
          "data": {
            "text/plain": [
              "            average_rating  rating_count\n",
              "prod_id                                 \n",
              "B0088CJT4U        4.218447           206\n",
              "B003ES5ZUU        4.864130           184\n",
              "B000N99BBC        4.772455           167\n",
              "B007WTAJTO        4.701220           164\n",
              "B00829TIEK        4.436242           149"
            ],
            "text/html": [
              "\n",
              "  <div id=\"df-086b62dc-802e-48c5-8eb6-c515e25a638c\" class=\"colab-df-container\">\n",
              "    <div>\n",
              "<style scoped>\n",
              "    .dataframe tbody tr th:only-of-type {\n",
              "        vertical-align: middle;\n",
              "    }\n",
              "\n",
              "    .dataframe tbody tr th {\n",
              "        vertical-align: top;\n",
              "    }\n",
              "\n",
              "    .dataframe thead th {\n",
              "        text-align: right;\n",
              "    }\n",
              "</style>\n",
              "<table border=\"1\" class=\"dataframe\">\n",
              "  <thead>\n",
              "    <tr style=\"text-align: right;\">\n",
              "      <th></th>\n",
              "      <th>average_rating</th>\n",
              "      <th>rating_count</th>\n",
              "    </tr>\n",
              "    <tr>\n",
              "      <th>prod_id</th>\n",
              "      <th></th>\n",
              "      <th></th>\n",
              "    </tr>\n",
              "  </thead>\n",
              "  <tbody>\n",
              "    <tr>\n",
              "      <th>B0088CJT4U</th>\n",
              "      <td>4.218447</td>\n",
              "      <td>206</td>\n",
              "    </tr>\n",
              "    <tr>\n",
              "      <th>B003ES5ZUU</th>\n",
              "      <td>4.864130</td>\n",
              "      <td>184</td>\n",
              "    </tr>\n",
              "    <tr>\n",
              "      <th>B000N99BBC</th>\n",
              "      <td>4.772455</td>\n",
              "      <td>167</td>\n",
              "    </tr>\n",
              "    <tr>\n",
              "      <th>B007WTAJTO</th>\n",
              "      <td>4.701220</td>\n",
              "      <td>164</td>\n",
              "    </tr>\n",
              "    <tr>\n",
              "      <th>B00829TIEK</th>\n",
              "      <td>4.436242</td>\n",
              "      <td>149</td>\n",
              "    </tr>\n",
              "  </tbody>\n",
              "</table>\n",
              "</div>\n",
              "    <div class=\"colab-df-buttons\">\n",
              "\n",
              "  <div class=\"colab-df-container\">\n",
              "    <button class=\"colab-df-convert\" onclick=\"convertToInteractive('df-086b62dc-802e-48c5-8eb6-c515e25a638c')\"\n",
              "            title=\"Convert this dataframe to an interactive table.\"\n",
              "            style=\"display:none;\">\n",
              "\n",
              "  <svg xmlns=\"http://www.w3.org/2000/svg\" height=\"24px\" viewBox=\"0 -960 960 960\">\n",
              "    <path d=\"M120-120v-720h720v720H120Zm60-500h600v-160H180v160Zm220 220h160v-160H400v160Zm0 220h160v-160H400v160ZM180-400h160v-160H180v160Zm440 0h160v-160H620v160ZM180-180h160v-160H180v160Zm440 0h160v-160H620v160Z\"/>\n",
              "  </svg>\n",
              "    </button>\n",
              "\n",
              "  <style>\n",
              "    .colab-df-container {\n",
              "      display:flex;\n",
              "      gap: 12px;\n",
              "    }\n",
              "\n",
              "    .colab-df-convert {\n",
              "      background-color: #E8F0FE;\n",
              "      border: none;\n",
              "      border-radius: 50%;\n",
              "      cursor: pointer;\n",
              "      display: none;\n",
              "      fill: #1967D2;\n",
              "      height: 32px;\n",
              "      padding: 0 0 0 0;\n",
              "      width: 32px;\n",
              "    }\n",
              "\n",
              "    .colab-df-convert:hover {\n",
              "      background-color: #E2EBFA;\n",
              "      box-shadow: 0px 1px 2px rgba(60, 64, 67, 0.3), 0px 1px 3px 1px rgba(60, 64, 67, 0.15);\n",
              "      fill: #174EA6;\n",
              "    }\n",
              "\n",
              "    .colab-df-buttons div {\n",
              "      margin-bottom: 4px;\n",
              "    }\n",
              "\n",
              "    [theme=dark] .colab-df-convert {\n",
              "      background-color: #3B4455;\n",
              "      fill: #D2E3FC;\n",
              "    }\n",
              "\n",
              "    [theme=dark] .colab-df-convert:hover {\n",
              "      background-color: #434B5C;\n",
              "      box-shadow: 0px 1px 3px 1px rgba(0, 0, 0, 0.15);\n",
              "      filter: drop-shadow(0px 1px 2px rgba(0, 0, 0, 0.3));\n",
              "      fill: #FFFFFF;\n",
              "    }\n",
              "  </style>\n",
              "\n",
              "    <script>\n",
              "      const buttonEl =\n",
              "        document.querySelector('#df-086b62dc-802e-48c5-8eb6-c515e25a638c button.colab-df-convert');\n",
              "      buttonEl.style.display =\n",
              "        google.colab.kernel.accessAllowed ? 'block' : 'none';\n",
              "\n",
              "      async function convertToInteractive(key) {\n",
              "        const element = document.querySelector('#df-086b62dc-802e-48c5-8eb6-c515e25a638c');\n",
              "        const dataTable =\n",
              "          await google.colab.kernel.invokeFunction('convertToInteractive',\n",
              "                                                    [key], {});\n",
              "        if (!dataTable) return;\n",
              "\n",
              "        const docLinkHtml = 'Like what you see? Visit the ' +\n",
              "          '<a target=\"_blank\" href=https://colab.research.google.com/notebooks/data_table.ipynb>data table notebook</a>'\n",
              "          + ' to learn more about interactive tables.';\n",
              "        element.innerHTML = '';\n",
              "        dataTable['output_type'] = 'display_data';\n",
              "        await google.colab.output.renderOutput(dataTable, element);\n",
              "        const docLink = document.createElement('div');\n",
              "        docLink.innerHTML = docLinkHtml;\n",
              "        element.appendChild(docLink);\n",
              "      }\n",
              "    </script>\n",
              "  </div>\n",
              "\n",
              "\n",
              "<div id=\"df-1c955c5d-29e8-4303-baa0-9c64ec13626d\">\n",
              "  <button class=\"colab-df-quickchart\" onclick=\"quickchart('df-1c955c5d-29e8-4303-baa0-9c64ec13626d')\"\n",
              "            title=\"Suggest charts\"\n",
              "            style=\"display:none;\">\n",
              "\n",
              "<svg xmlns=\"http://www.w3.org/2000/svg\" height=\"24px\"viewBox=\"0 0 24 24\"\n",
              "     width=\"24px\">\n",
              "    <g>\n",
              "        <path d=\"M19 3H5c-1.1 0-2 .9-2 2v14c0 1.1.9 2 2 2h14c1.1 0 2-.9 2-2V5c0-1.1-.9-2-2-2zM9 17H7v-7h2v7zm4 0h-2V7h2v10zm4 0h-2v-4h2v4z\"/>\n",
              "    </g>\n",
              "</svg>\n",
              "  </button>\n",
              "\n",
              "<style>\n",
              "  .colab-df-quickchart {\n",
              "      --bg-color: #E8F0FE;\n",
              "      --fill-color: #1967D2;\n",
              "      --hover-bg-color: #E2EBFA;\n",
              "      --hover-fill-color: #174EA6;\n",
              "      --disabled-fill-color: #AAA;\n",
              "      --disabled-bg-color: #DDD;\n",
              "  }\n",
              "\n",
              "  [theme=dark] .colab-df-quickchart {\n",
              "      --bg-color: #3B4455;\n",
              "      --fill-color: #D2E3FC;\n",
              "      --hover-bg-color: #434B5C;\n",
              "      --hover-fill-color: #FFFFFF;\n",
              "      --disabled-bg-color: #3B4455;\n",
              "      --disabled-fill-color: #666;\n",
              "  }\n",
              "\n",
              "  .colab-df-quickchart {\n",
              "    background-color: var(--bg-color);\n",
              "    border: none;\n",
              "    border-radius: 50%;\n",
              "    cursor: pointer;\n",
              "    display: none;\n",
              "    fill: var(--fill-color);\n",
              "    height: 32px;\n",
              "    padding: 0;\n",
              "    width: 32px;\n",
              "  }\n",
              "\n",
              "  .colab-df-quickchart:hover {\n",
              "    background-color: var(--hover-bg-color);\n",
              "    box-shadow: 0 1px 2px rgba(60, 64, 67, 0.3), 0 1px 3px 1px rgba(60, 64, 67, 0.15);\n",
              "    fill: var(--button-hover-fill-color);\n",
              "  }\n",
              "\n",
              "  .colab-df-quickchart-complete:disabled,\n",
              "  .colab-df-quickchart-complete:disabled:hover {\n",
              "    background-color: var(--disabled-bg-color);\n",
              "    fill: var(--disabled-fill-color);\n",
              "    box-shadow: none;\n",
              "  }\n",
              "\n",
              "  .colab-df-spinner {\n",
              "    border: 2px solid var(--fill-color);\n",
              "    border-color: transparent;\n",
              "    border-bottom-color: var(--fill-color);\n",
              "    animation:\n",
              "      spin 1s steps(1) infinite;\n",
              "  }\n",
              "\n",
              "  @keyframes spin {\n",
              "    0% {\n",
              "      border-color: transparent;\n",
              "      border-bottom-color: var(--fill-color);\n",
              "      border-left-color: var(--fill-color);\n",
              "    }\n",
              "    20% {\n",
              "      border-color: transparent;\n",
              "      border-left-color: var(--fill-color);\n",
              "      border-top-color: var(--fill-color);\n",
              "    }\n",
              "    30% {\n",
              "      border-color: transparent;\n",
              "      border-left-color: var(--fill-color);\n",
              "      border-top-color: var(--fill-color);\n",
              "      border-right-color: var(--fill-color);\n",
              "    }\n",
              "    40% {\n",
              "      border-color: transparent;\n",
              "      border-right-color: var(--fill-color);\n",
              "      border-top-color: var(--fill-color);\n",
              "    }\n",
              "    60% {\n",
              "      border-color: transparent;\n",
              "      border-right-color: var(--fill-color);\n",
              "    }\n",
              "    80% {\n",
              "      border-color: transparent;\n",
              "      border-right-color: var(--fill-color);\n",
              "      border-bottom-color: var(--fill-color);\n",
              "    }\n",
              "    90% {\n",
              "      border-color: transparent;\n",
              "      border-bottom-color: var(--fill-color);\n",
              "    }\n",
              "  }\n",
              "</style>\n",
              "\n",
              "  <script>\n",
              "    async function quickchart(key) {\n",
              "      const quickchartButtonEl =\n",
              "        document.querySelector('#' + key + ' button');\n",
              "      quickchartButtonEl.disabled = true;  // To prevent multiple clicks.\n",
              "      quickchartButtonEl.classList.add('colab-df-spinner');\n",
              "      try {\n",
              "        const charts = await google.colab.kernel.invokeFunction(\n",
              "            'suggestCharts', [key], {});\n",
              "      } catch (error) {\n",
              "        console.error('Error during call to suggestCharts:', error);\n",
              "      }\n",
              "      quickchartButtonEl.classList.remove('colab-df-spinner');\n",
              "      quickchartButtonEl.classList.add('colab-df-quickchart-complete');\n",
              "    }\n",
              "    (() => {\n",
              "      let quickchartButtonEl =\n",
              "        document.querySelector('#df-1c955c5d-29e8-4303-baa0-9c64ec13626d button');\n",
              "      quickchartButtonEl.style.display =\n",
              "        google.colab.kernel.accessAllowed ? 'block' : 'none';\n",
              "    })();\n",
              "  </script>\n",
              "</div>\n",
              "\n",
              "    </div>\n",
              "  </div>\n"
            ],
            "application/vnd.google.colaboratory.intrinsic+json": {
              "type": "dataframe",
              "variable_name": "popular_products100",
              "summary": "{\n  \"name\": \"popular_products100\",\n  \"rows\": 16,\n  \"fields\": [\n    {\n      \"column\": \"prod_id\",\n      \"properties\": {\n        \"dtype\": \"string\",\n        \"num_unique_values\": 16,\n        \"samples\": [\n          \"B0088CJT4U\",\n          \"B003ES5ZUU\",\n          \"B008DWCRQW\"\n        ],\n        \"semantic_type\": \"\",\n        \"description\": \"\"\n      }\n    },\n    {\n      \"column\": \"average_rating\",\n      \"properties\": {\n        \"dtype\": \"number\",\n        \"std\": 0.29125301797903697,\n        \"min\": 3.871559633027523,\n        \"max\": 4.864130434782608,\n        \"num_unique_values\": 16,\n        \"samples\": [\n          4.218446601941747,\n          4.864130434782608,\n          4.094890510948905\n        ],\n        \"semantic_type\": \"\",\n        \"description\": \"\"\n      }\n    },\n    {\n      \"column\": \"rating_count\",\n      \"properties\": {\n        \"dtype\": \"number\",\n        \"std\": 32,\n        \"min\": 100,\n        \"max\": 206,\n        \"num_unique_values\": 14,\n        \"samples\": [\n          110,\n          106,\n          206\n        ],\n        \"semantic_type\": \"\",\n        \"description\": \"\"\n      }\n    }\n  ]\n}"
            }
          },
          "metadata": {},
          "execution_count": 25
        }
      ],
      "source": [
        "popular_products100 = final_rating[final_rating['rating_count']>=100].sort_values('rating_count', ascending=False)\n",
        "popular_products100.head()"
      ]
    },
    {
      "cell_type": "markdown",
      "metadata": {
        "id": "BL-m68a15JtT",
        "outputId": "69132b0f-8d3f-4798-f6a0-249e17a3c822"
      },
      "source": [
        "We have recommended the **top 5** products by using the popularity recommendation system. Now, let's build a recommendation system using **collaborative filtering.**"
      ]
    },
    {
      "cell_type": "markdown",
      "metadata": {
        "id": "sJI5kiiGvOOK"
      },
      "source": [
        "## **Model 2: Collaborative Filtering Recommendation System**"
      ]
    },
    {
      "cell_type": "markdown",
      "metadata": {
        "id": "QoSujZuuvOOK"
      },
      "source": [
        "In this type of recommendation system, `we do not need any information` about the users or items. We only need user item interaction data to build a collaborative recommendation system. For example -\n",
        "<ol>\n",
        "    <li><b>Ratings</b> provided by users. For example, ratings of books on goodread, movie ratings on imdb, etc.</li>\n",
        "    <li><b>Likes</b> of users on different facebook posts, likes on youtube videos.</li>\n",
        "    <li><b>Use/buying</b> of a product by users. For example, buying different items on e-commerce sites.</li>\n",
        "    <li><b>Reading</b> of articles by readers on various blogs.</li>\n",
        "</ol>"
      ]
    },
    {
      "cell_type": "markdown",
      "metadata": {
        "id": "A_3GtPzuvOOK"
      },
      "source": [
        "**Types of Collaborative Filtering**"
      ]
    },
    {
      "cell_type": "markdown",
      "metadata": {
        "id": "igZX3WbqvOOK"
      },
      "source": [
        "- Similarity/Neighborhood based\n",
        "\n",
        " * User-User Similarity Based  \n",
        " * Item-Item similarity based\n",
        "\n",
        "- Model based"
      ]
    },
    {
      "cell_type": "markdown",
      "metadata": {
        "id": "skzc0N1_nVNB"
      },
      "source": [
        "### **Building a baseline user-user similarity based recommendation system**"
      ]
    },
    {
      "cell_type": "markdown",
      "metadata": {
        "id": "d4Uo_MYMnVNB"
      },
      "source": [
        "- Below, we are building **similarity-based recommendation systems** using `cosine` similarity and using **KNN to find similar users** which are the nearest neighbor to the given user.  \n",
        "- We will be using a new library, called `surprise`, to build the remaining models. Let's first import the necessary classes and functions from this library."
      ]
    },
    {
      "cell_type": "code",
      "execution_count": 29,
      "metadata": {
        "id": "UJ1wEylUpexj",
        "colab": {
          "base_uri": "https://localhost:8080/",
          "height": 1000
        },
        "outputId": "bcdfa348-e621-4c26-c204-3ce30969a39e"
      },
      "outputs": [
        {
          "output_type": "stream",
          "name": "stderr",
          "text": [
            "\n",
            "A module that was compiled using NumPy 1.x cannot be run in\n",
            "NumPy 2.2.4 as it may crash. To support both 1.x and 2.x\n",
            "versions of NumPy, modules must be compiled with NumPy 2.0.\n",
            "Some module may need to rebuild instead e.g. with 'pybind11>=2.12'.\n",
            "\n",
            "If you are a user of the module, the easiest solution will be to\n",
            "downgrade to 'numpy<2' or try to upgrade the affected module.\n",
            "We expect that some modules will need time to support NumPy 2.\n",
            "\n",
            "Traceback (most recent call last):  File \"<frozen runpy>\", line 198, in _run_module_as_main\n",
            "  File \"<frozen runpy>\", line 88, in _run_code\n",
            "  File \"/usr/local/lib/python3.11/dist-packages/colab_kernel_launcher.py\", line 37, in <module>\n",
            "    ColabKernelApp.launch_instance()\n",
            "  File \"/usr/local/lib/python3.11/dist-packages/traitlets/config/application.py\", line 992, in launch_instance\n",
            "    app.start()\n",
            "  File \"/usr/local/lib/python3.11/dist-packages/ipykernel/kernelapp.py\", line 712, in start\n",
            "    self.io_loop.start()\n",
            "  File \"/usr/local/lib/python3.11/dist-packages/tornado/platform/asyncio.py\", line 205, in start\n",
            "    self.asyncio_loop.run_forever()\n",
            "  File \"/usr/lib/python3.11/asyncio/base_events.py\", line 608, in run_forever\n",
            "    self._run_once()\n",
            "  File \"/usr/lib/python3.11/asyncio/base_events.py\", line 1936, in _run_once\n",
            "    handle._run()\n",
            "  File \"/usr/lib/python3.11/asyncio/events.py\", line 84, in _run\n",
            "    self._context.run(self._callback, *self._args)\n",
            "  File \"/usr/local/lib/python3.11/dist-packages/ipykernel/kernelbase.py\", line 510, in dispatch_queue\n",
            "    await self.process_one()\n",
            "  File \"/usr/local/lib/python3.11/dist-packages/ipykernel/kernelbase.py\", line 499, in process_one\n",
            "    await dispatch(*args)\n",
            "  File \"/usr/local/lib/python3.11/dist-packages/ipykernel/kernelbase.py\", line 406, in dispatch_shell\n",
            "    await result\n",
            "  File \"/usr/local/lib/python3.11/dist-packages/ipykernel/kernelbase.py\", line 730, in execute_request\n",
            "    reply_content = await reply_content\n",
            "  File \"/usr/local/lib/python3.11/dist-packages/ipykernel/ipkernel.py\", line 383, in do_execute\n",
            "    res = shell.run_cell(\n",
            "  File \"/usr/local/lib/python3.11/dist-packages/ipykernel/zmqshell.py\", line 528, in run_cell\n",
            "    return super().run_cell(*args, **kwargs)\n",
            "  File \"/usr/local/lib/python3.11/dist-packages/IPython/core/interactiveshell.py\", line 2975, in run_cell\n",
            "    result = self._run_cell(\n",
            "  File \"/usr/local/lib/python3.11/dist-packages/IPython/core/interactiveshell.py\", line 3030, in _run_cell\n",
            "    return runner(coro)\n",
            "  File \"/usr/local/lib/python3.11/dist-packages/IPython/core/async_helpers.py\", line 78, in _pseudo_sync_runner\n",
            "    coro.send(None)\n",
            "  File \"/usr/local/lib/python3.11/dist-packages/IPython/core/interactiveshell.py\", line 3257, in run_cell_async\n",
            "    has_raised = await self.run_ast_nodes(code_ast.body, cell_name,\n",
            "  File \"/usr/local/lib/python3.11/dist-packages/IPython/core/interactiveshell.py\", line 3473, in run_ast_nodes\n",
            "    if (await self.run_code(code, result,  async_=asy)):\n",
            "  File \"/usr/local/lib/python3.11/dist-packages/IPython/core/interactiveshell.py\", line 3553, in run_code\n",
            "    exec(code_obj, self.user_global_ns, self.user_ns)\n",
            "  File \"<ipython-input-29-df9881fd00c5>\", line 2, in <cell line: 0>\n",
            "    from surprise import accuracy\n",
            "  File \"/usr/local/lib/python3.11/dist-packages/surprise/__init__.py\", line 6, in <module>\n",
            "    from .prediction_algorithms import (\n",
            "  File \"/usr/local/lib/python3.11/dist-packages/surprise/prediction_algorithms/__init__.py\", line 23, in <module>\n",
            "    from .algo_base import AlgoBase\n",
            "  File \"/usr/local/lib/python3.11/dist-packages/surprise/prediction_algorithms/algo_base.py\", line 8, in <module>\n",
            "    from .. import similarities as sims\n"
          ]
        },
        {
          "output_type": "error",
          "ename": "ImportError",
          "evalue": "numpy.core.multiarray failed to import (auto-generated because you didn't call 'numpy.import_array()' after cimporting numpy; use '<void>numpy._import_array' to disable if you are certain you don't need it).",
          "traceback": [
            "\u001b[0;31m---------------------------------------------------------------------------\u001b[0m",
            "\u001b[0;31mImportError\u001b[0m                               Traceback (most recent call last)",
            "\u001b[0;32m<ipython-input-29-df9881fd00c5>\u001b[0m in \u001b[0;36m<cell line: 0>\u001b[0;34m()\u001b[0m\n\u001b[1;32m      1\u001b[0m \u001b[0;31m# To compute the accuracy of models\u001b[0m\u001b[0;34m\u001b[0m\u001b[0;34m\u001b[0m\u001b[0m\n\u001b[0;32m----> 2\u001b[0;31m \u001b[0;32mfrom\u001b[0m \u001b[0msurprise\u001b[0m \u001b[0;32mimport\u001b[0m \u001b[0maccuracy\u001b[0m\u001b[0;34m\u001b[0m\u001b[0;34m\u001b[0m\u001b[0m\n\u001b[0m\u001b[1;32m      3\u001b[0m \u001b[0;34m\u001b[0m\u001b[0m\n\u001b[1;32m      4\u001b[0m \u001b[0;31m# Class is used to parse a file containing ratings, data should be in structure - user ; item ; rating\u001b[0m\u001b[0;34m\u001b[0m\u001b[0;34m\u001b[0m\u001b[0m\n\u001b[1;32m      5\u001b[0m \u001b[0;32mfrom\u001b[0m \u001b[0msurprise\u001b[0m\u001b[0;34m.\u001b[0m\u001b[0mreader\u001b[0m \u001b[0;32mimport\u001b[0m \u001b[0mReader\u001b[0m\u001b[0;34m\u001b[0m\u001b[0;34m\u001b[0m\u001b[0m\n",
            "\u001b[0;32m/usr/local/lib/python3.11/dist-packages/surprise/__init__.py\u001b[0m in \u001b[0;36m<module>\u001b[0;34m\u001b[0m\n\u001b[1;32m      4\u001b[0m \u001b[0;32mfrom\u001b[0m \u001b[0;34m.\u001b[0m\u001b[0mdataset\u001b[0m \u001b[0;32mimport\u001b[0m \u001b[0mDataset\u001b[0m\u001b[0;34m\u001b[0m\u001b[0;34m\u001b[0m\u001b[0m\n\u001b[1;32m      5\u001b[0m \u001b[0;34m\u001b[0m\u001b[0m\n\u001b[0;32m----> 6\u001b[0;31m from .prediction_algorithms import (\n\u001b[0m\u001b[1;32m      7\u001b[0m     \u001b[0mAlgoBase\u001b[0m\u001b[0;34m,\u001b[0m\u001b[0;34m\u001b[0m\u001b[0;34m\u001b[0m\u001b[0m\n\u001b[1;32m      8\u001b[0m     \u001b[0mBaselineOnly\u001b[0m\u001b[0;34m,\u001b[0m\u001b[0;34m\u001b[0m\u001b[0;34m\u001b[0m\u001b[0m\n",
            "\u001b[0;32m/usr/local/lib/python3.11/dist-packages/surprise/prediction_algorithms/__init__.py\u001b[0m in \u001b[0;36m<module>\u001b[0;34m\u001b[0m\n\u001b[1;32m     21\u001b[0m \"\"\"\n\u001b[1;32m     22\u001b[0m \u001b[0;34m\u001b[0m\u001b[0m\n\u001b[0;32m---> 23\u001b[0;31m \u001b[0;32mfrom\u001b[0m \u001b[0;34m.\u001b[0m\u001b[0malgo_base\u001b[0m \u001b[0;32mimport\u001b[0m \u001b[0mAlgoBase\u001b[0m\u001b[0;34m\u001b[0m\u001b[0;34m\u001b[0m\u001b[0m\n\u001b[0m\u001b[1;32m     24\u001b[0m \u001b[0;32mfrom\u001b[0m \u001b[0;34m.\u001b[0m\u001b[0mbaseline_only\u001b[0m \u001b[0;32mimport\u001b[0m \u001b[0mBaselineOnly\u001b[0m\u001b[0;34m\u001b[0m\u001b[0;34m\u001b[0m\u001b[0m\n\u001b[1;32m     25\u001b[0m \u001b[0;32mfrom\u001b[0m \u001b[0;34m.\u001b[0m\u001b[0mco_clustering\u001b[0m \u001b[0;32mimport\u001b[0m \u001b[0mCoClustering\u001b[0m\u001b[0;34m\u001b[0m\u001b[0;34m\u001b[0m\u001b[0m\n",
            "\u001b[0;32m/usr/local/lib/python3.11/dist-packages/surprise/prediction_algorithms/algo_base.py\u001b[0m in \u001b[0;36m<module>\u001b[0;34m\u001b[0m\n\u001b[1;32m      6\u001b[0m \u001b[0;32mimport\u001b[0m \u001b[0mheapq\u001b[0m\u001b[0;34m\u001b[0m\u001b[0;34m\u001b[0m\u001b[0m\n\u001b[1;32m      7\u001b[0m \u001b[0;34m\u001b[0m\u001b[0m\n\u001b[0;32m----> 8\u001b[0;31m \u001b[0;32mfrom\u001b[0m \u001b[0;34m.\u001b[0m\u001b[0;34m.\u001b[0m \u001b[0;32mimport\u001b[0m \u001b[0msimilarities\u001b[0m \u001b[0;32mas\u001b[0m \u001b[0msims\u001b[0m\u001b[0;34m\u001b[0m\u001b[0;34m\u001b[0m\u001b[0m\n\u001b[0m\u001b[1;32m      9\u001b[0m \u001b[0;32mfrom\u001b[0m \u001b[0;34m.\u001b[0m\u001b[0moptimize_baselines\u001b[0m \u001b[0;32mimport\u001b[0m \u001b[0mbaseline_als\u001b[0m\u001b[0;34m,\u001b[0m \u001b[0mbaseline_sgd\u001b[0m\u001b[0;34m\u001b[0m\u001b[0;34m\u001b[0m\u001b[0m\n\u001b[1;32m     10\u001b[0m \u001b[0;32mfrom\u001b[0m \u001b[0;34m.\u001b[0m\u001b[0mpredictions\u001b[0m \u001b[0;32mimport\u001b[0m \u001b[0mPrediction\u001b[0m\u001b[0;34m,\u001b[0m \u001b[0mPredictionImpossible\u001b[0m\u001b[0;34m\u001b[0m\u001b[0;34m\u001b[0m\u001b[0m\n",
            "\u001b[0;32m/usr/local/lib/python3.11/dist-packages/surprise/similarities.pyx\u001b[0m in \u001b[0;36minit surprise.similarities\u001b[0;34m()\u001b[0m\n",
            "\u001b[0;31mImportError\u001b[0m: numpy.core.multiarray failed to import (auto-generated because you didn't call 'numpy.import_array()' after cimporting numpy; use '<void>numpy._import_array' to disable if you are certain you don't need it).",
            "",
            "\u001b[0;31m---------------------------------------------------------------------------\u001b[0;32m\nNOTE: If your import is failing due to a missing package, you can\nmanually install dependencies using either !pip or !apt.\n\nTo view examples of installing some common dependencies, click the\n\"Open Examples\" button below.\n\u001b[0;31m---------------------------------------------------------------------------\u001b[0m\n"
          ],
          "errorDetails": {
            "actions": [
              {
                "action": "open_url",
                "actionText": "Open Examples",
                "url": "/notebooks/snippets/importing_libraries.ipynb"
              }
            ]
          }
        }
      ],
      "source": [
        "# To compute the accuracy of models\n",
        "from surprise import accuracy\n",
        "\n",
        "# Class is used to parse a file containing ratings, data should be in structure - user ; item ; rating\n",
        "from surprise.reader import Reader\n",
        "\n",
        "# Class for loading datasets\n",
        "from surprise.dataset import Dataset\n",
        "\n",
        "# For tuning model hyperparameters\n",
        "from surprise.model_selection import GridSearchCV\n",
        "\n",
        "# For splitting the rating data in train and test datasets\n",
        "from surprise.model_selection import train_test_split\n",
        "\n",
        "# For implementing similarity-based recommendation system\n",
        "from surprise.prediction_algorithms.knns import KNNBasic\n",
        "\n",
        "# For implementing matrix factorization based recommendation system\n",
        "from surprise.prediction_algorithms.matrix_factorization import SVD\n",
        "\n",
        "# for implementing K-Fold cross-validation\n",
        "from surprise.model_selection import KFold\n",
        "\n",
        "# For implementing clustering-based recommendation system\n",
        "from surprise import CoClustering"
      ]
    },
    {
      "cell_type": "markdown",
      "metadata": {
        "id": "54MqVAtDTsnl"
      },
      "source": [
        "**Before building the recommendation systems, let's  go over some basic terminologies we are going to use:**"
      ]
    },
    {
      "cell_type": "markdown",
      "metadata": {
        "id": "Qsxb3xhnTsnl"
      },
      "source": [
        "**Relevant item:** An item (product in this case) that is actually **rated higher than the threshold rating** is relevant, if the **actual rating is below the threshold then it is a non-relevant item**.  \n",
        "\n",
        "**Recommended item:** An item that's **predicted rating is higher than the threshold is a recommended item**, if the **predicted rating is below the threshold then that product will not be recommended to the user**.  \n"
      ]
    },
    {
      "cell_type": "markdown",
      "metadata": {
        "id": "moyLUHCuTsnl"
      },
      "source": [
        "**False Negative (FN):** It is the **frequency of relevant items that are not recommended to the user**. If the relevant items are not recommended to the user, then the user might not buy the product/item. This would result in the **loss of opportunity for the service provider**, which they would like to minimize.\n",
        "\n",
        "**False Positive (FP):** It is the **frequency of recommended items that are actually not relevant**. In this case, the recommendation system is not doing a good job of finding and recommending the relevant items to the user. This would result in **loss of resources for the service provider**, which they would also like to minimize."
      ]
    },
    {
      "cell_type": "markdown",
      "metadata": {
        "id": "Yuvc2VaZTsnl"
      },
      "source": [
        "**Recall:** It is the **fraction of actually relevant items that are recommended to the user**, i.e., if out of 10 relevant products, 6 are recommended to the user then recall is 0.60. Higher the value of recall better is the model. It is one of the metrics to do the performance assessment of classification models.\n",
        "\n",
        "**Precision:** It is the **fraction of recommended items that are relevant actually**, i.e., if out of 10 recommended items, 6 are found relevant by the user then precision is 0.60. The higher the value of precision better is the model. It is one of the metrics to do the performance assessment of classification models."
      ]
    },
    {
      "cell_type": "markdown",
      "metadata": {
        "id": "8NLc36Y8Tsnm"
      },
      "source": [
        "**While making a recommendation system, it becomes customary to look at the performance of the model. In terms of how many recommendations are relevant and vice-versa, below are some most used performance metrics used in the assessment of recommendation systems.**"
      ]
    },
    {
      "cell_type": "markdown",
      "metadata": {
        "id": "cqF8fRBqTsnm"
      },
      "source": [
        "### **Precision@k, Recall@ k, and F1-score@k**"
      ]
    },
    {
      "cell_type": "markdown",
      "metadata": {
        "id": "imMJNF0HTsnm"
      },
      "source": [
        "**Precision@k** - It is the **fraction of recommended items that are relevant in `top k` predictions**. The value of k is the number of recommendations to be provided to the user. One can choose a variable number of recommendations to be given to a unique user.  \n",
        "\n",
        "\n",
        "**Recall@k** - It is the **fraction of relevant items that are recommended to the user in `top k` predictions**.\n",
        "\n",
        "**F1-score@k** - It is the **harmonic mean of Precision@k and Recall@k**. When **precision@k and recall@k both seem to be important** then it is useful to use this metric because it is representative of both of them."
      ]
    },
    {
      "cell_type": "markdown",
      "metadata": {
        "id": "jBW4BUhWTsnm"
      },
      "source": [
        "### **Some useful functions**"
      ]
    },
    {
      "cell_type": "markdown",
      "metadata": {
        "id": "QOBHKh0eTsnm"
      },
      "source": [
        "- Below function takes the **recommendation model** as input and gives the **precision@k, recall@k, and F1-score@k** for that model.  \n",
        "- To compute **precision and recall**, **top k** predictions are taken under consideration for each user.\n",
        "- We will use the precision and recall to compute the F1-score."
      ]
    },
    {
      "cell_type": "code",
      "execution_count": null,
      "metadata": {
        "id": "Rxn-GahOTsnm"
      },
      "outputs": [],
      "source": [
        "def precision_recall_at_k(model, k = 10, threshold = 3.5):\n",
        "    \"\"\"Return precision and recall at k metrics for each user\"\"\"\n",
        "\n",
        "    # First map the predictions to each user\n",
        "    user_est_true = defaultdict(list)\n",
        "\n",
        "    # Making predictions on the test data\n",
        "    predictions = model.test(testset)\n",
        "\n",
        "    for uid, _, true_r, est, _ in predictions:\n",
        "        user_est_true[uid].append((est, true_r))\n",
        "\n",
        "    precisions = dict()\n",
        "    recalls = dict()\n",
        "    for uid, user_ratings in user_est_true.items():\n",
        "\n",
        "        # Sort user ratings by estimated value\n",
        "        user_ratings.sort(key = lambda x: x[0], reverse = True)\n",
        "\n",
        "        # Number of relevant items\n",
        "        n_rel = sum((true_r >= threshold) for (_, true_r) in user_ratings)\n",
        "\n",
        "        # Number of recommended items in top k\n",
        "        n_rec_k = sum((est >= threshold) for (est, _) in user_ratings[:k])\n",
        "\n",
        "        # Number of relevant and recommended items in top k\n",
        "        n_rel_and_rec_k = sum(((true_r >= threshold) and (est >= threshold))\n",
        "                              for (est, true_r) in user_ratings[:k])\n",
        "\n",
        "        # Precision@K: Proportion of recommended items that are relevant\n",
        "        # When n_rec_k is 0, Precision is undefined. Therefore, we are setting Precision to 0 when n_rec_k is 0\n",
        "\n",
        "        precisions[uid] = n_rel_and_rec_k / n_rec_k if n_rec_k != 0 else 0\n",
        "\n",
        "        # Recall@K: Proportion of relevant items that are recommended\n",
        "        # When n_rel is 0, Recall is undefined. Therefore, we are setting Recall to 0 when n_rel is 0\n",
        "\n",
        "        recalls[uid] = n_rel_and_rec_k / n_rel if n_rel != 0 else 0\n",
        "\n",
        "    # Mean of all the predicted precisions are calculated.\n",
        "    precision = round((sum(prec for prec in precisions.values()) / len(precisions)), 3)\n",
        "\n",
        "    # Mean of all the predicted recalls are calculated.\n",
        "    recall = round((sum(rec for rec in recalls.values()) / len(recalls)), 3)\n",
        "\n",
        "    accuracy.rmse(predictions)\n",
        "\n",
        "    print('Precision: ', precision) # Command to print the overall precision\n",
        "\n",
        "    print('Recall: ', recall) # Command to print the overall recall\n",
        "\n",
        "    print('F_1 score: ', round((2*precision*recall)/(precision+recall), 3)) # Formula to compute the F-1 score"
      ]
    },
    {
      "cell_type": "markdown",
      "metadata": {
        "id": "_ZmsamDVyek-"
      },
      "source": [
        "**Hints:**\n",
        "\n",
        "- To compute **precision and recall**, a **threshold of 3.5 and k value of 10 can be considered for the recommended and relevant ratings**.\n",
        "- Think about the performance metric to choose."
      ]
    },
    {
      "cell_type": "markdown",
      "metadata": {
        "id": "8hxjJMTwnVNB"
      },
      "source": [
        "Below we are loading the **`rating` dataset**, which is a **pandas DataFrame**, into a **different format called `surprise.dataset.DatasetAutoFolds`**, which is required by this library. To do this, we will be **using the classes `Reader` and `Dataset`.**"
      ]
    },
    {
      "cell_type": "code",
      "execution_count": null,
      "metadata": {
        "id": "SKR8T_clTsnm"
      },
      "outputs": [],
      "source": [
        "df_final.head()"
      ]
    },
    {
      "cell_type": "code",
      "execution_count": null,
      "metadata": {
        "id": "rGfYDiOCpe4X"
      },
      "outputs": [],
      "source": [
        "# Instantiating Reader scale with expected rating scale\n",
        "reader = Reader(rating_scale = (0, 5))\n",
        "\n",
        "# Loading the rating dataset\n",
        "data = Dataset.load_from_df(df_final[['user_id', 'prod_id', 'rating']], reader)\n",
        "\n",
        "# Splitting the data into train and test datasets\n",
        "trainset, testset = train_test_split(data, test_size = 0.2, random_state = 42)"
      ]
    },
    {
      "cell_type": "markdown",
      "metadata": {
        "id": "DmHTEt7TnVNC"
      },
      "source": [
        "Now, we are **ready to build the first baseline similarity-based recommendation system** using the cosine similarity."
      ]
    },
    {
      "cell_type": "markdown",
      "metadata": {
        "id": "SVDfVHB4tQfU"
      },
      "source": [
        "### **Building the user-user Similarity-based Recommendation System**\n",
        "\n",
        "- **Initialize the KNNBasic model using sim_options provided, Verbose=False, and setting random_state=1**\n",
        "\n",
        "- **Fit the model on the training data**\n",
        "\n",
        "- **Use the precision_recall_at_k function to calculate the metrics on the test data**\n",
        "\n",
        "- **Provide your observations on the output**"
      ]
    },
    {
      "cell_type": "code",
      "execution_count": null,
      "metadata": {
        "id": "vO3FL7iape8A",
        "scrolled": false
      },
      "outputs": [],
      "source": [
        "# Declaring the similarity options\n",
        "sim_options = {'name': 'cosine',\n",
        "               'user_based': True}\n",
        "\n",
        "# Initialize the KNNBasic model using sim_options provided, Verbose = False, and setting random_state = 1\n",
        "sim_user_user = KNNBasic(k=40, sim_options=sim_options, verbose=False, random_state=1)\n",
        "\n",
        "# Fit the model on the training data\n",
        "sim_user_user.fit(trainset)\n",
        "\n",
        "# Let us compute precision@k, recall@k, and f_1 score using the precision_recall_at_k function defined above\n",
        "precision_recall_at_k(sim_user_user)"
      ]
    },
    {
      "cell_type": "markdown",
      "metadata": {
        "id": "nEuJK_A9Tsnn"
      },
      "source": [
        "**Write your observations here:__________**"
      ]
    },
    {
      "cell_type": "markdown",
      "metadata": {
        "id": "reFD0-nsnVNC"
      },
      "source": [
        "Let's now **predict rating for a user with `userId=A3LDPF5FMB782Z` and `productId=1400501466`** as shown below. Here the user has already interacted or watched the product with productId '1400501466' and given a rating of 5 which is denoted by the parameter r_ui."
      ]
    },
    {
      "cell_type": "code",
      "execution_count": null,
      "metadata": {
        "id": "Sxd23bZ9pe_x"
      },
      "outputs": [],
      "source": [
        "# Predicting rating for a sample user with an interacted product\n",
        "sim_user_user.predict(\"A3LDPF5FMB782Z\", \"1400501466\", r_ui = 5, verbose = True)"
      ]
    },
    {
      "cell_type": "markdown",
      "metadata": {
        "id": "ENJcqG_wemRH"
      },
      "source": [
        "**Write your observations here:__________**"
      ]
    },
    {
      "cell_type": "markdown",
      "metadata": {
        "id": "cj6ecbglTsno"
      },
      "source": [
        "Below is the **list of users who have not seen the product with product id \"1400501466\"**."
      ]
    },
    {
      "cell_type": "code",
      "execution_count": null,
      "metadata": {
        "id": "xCRBMD-RTsno"
      },
      "outputs": [],
      "source": [
        "df_final[df_final.prod_id != \"1400501466\"].user_id.unique()"
      ]
    },
    {
      "cell_type": "markdown",
      "metadata": {
        "id": "KT42ecaSTsno"
      },
      "source": [
        "* It can be observed from the above list that **user \"A34BZM6S9L7QI4\" has not seen the product with productId \"1400501466\"** as this userId is a part of the above list."
      ]
    },
    {
      "cell_type": "markdown",
      "metadata": {
        "id": "EXSgq8OEnVNE"
      },
      "source": [
        "**Below we are predicting rating for `userId=A34BZM6S9L7QI4` and `prod_id=1400501466`.**"
      ]
    },
    {
      "cell_type": "code",
      "execution_count": null,
      "metadata": {
        "id": "PbFcBj1PpfEV"
      },
      "outputs": [],
      "source": [
        "# Predicting rating for a sample user with a non interacted product\n",
        "sim_user_user.predict(\"A34BZM6S9L7QI4\", \"1400501466\", verbose = True)"
      ]
    },
    {
      "cell_type": "markdown",
      "metadata": {
        "id": "02rwld8yemRI"
      },
      "source": [
        "**Write your observations here:__________**"
      ]
    },
    {
      "cell_type": "markdown",
      "metadata": {
        "id": "ejjof6csnVNF"
      },
      "source": [
        "### **Improving Similarity-based Recommendation System by tuning its hyperparameters**"
      ]
    },
    {
      "cell_type": "markdown",
      "metadata": {
        "id": "p2j4VvfQnVNF"
      },
      "source": [
        "Below, we will be tuning hyperparameters for the `KNNBasic` algorithm. Let's try to understand some of the hyperparameters of the KNNBasic algorithm:\n",
        "\n",
        "- **k** (int) – The (max) number of neighbors to take into account for aggregation. Default is 40.\n",
        "- **min_k** (int) – The minimum number of neighbors to take into account for aggregation. If there are not enough neighbors, the prediction is set to the global mean of all ratings. Default is 1.\n",
        "- **sim_options** (dict) – A dictionary of options for the similarity measure. And there are four similarity measures available in surprise -\n",
        "    - cosine\n",
        "    - msd (default)\n",
        "    - Pearson\n",
        "    - Pearson baseline"
      ]
    },
    {
      "cell_type": "code",
      "execution_count": null,
      "metadata": {
        "id": "9LmPbSUSTsnp"
      },
      "outputs": [],
      "source": [
        "# Setting up parameter grid to tune the hyperparameters\n",
        "param_grid = {'k': [20, 30, 40], 'min_k': [3, 6, 9],\n",
        "              'sim_options': {'name': ['msd', 'cosine'],\n",
        "                              'user_based': [True]} }\n",
        "\n",
        "# Performing 3-fold cross-validation to tune the hyperparameters\n",
        "gs = GridSearchCV(KNNBasic, param_grid, measures = ['rmse'], cv = 3, n_jobs = -1)\n",
        "\n",
        "# Fitting the data\n",
        "gs.fit(data)\n",
        "\n",
        "# Best RMSE score\n",
        "print(gs.best_score['rmse'])\n",
        "\n",
        "# Combination of parameters that gave the best RMSE score\n",
        "print(gs.best_params['rmse'])"
      ]
    },
    {
      "cell_type": "markdown",
      "metadata": {
        "id": "L2fHNvu7nVNF"
      },
      "source": [
        "Once the grid search is **complete**, we can get the **optimal values for each of those hyperparameters** as shown above."
      ]
    },
    {
      "cell_type": "markdown",
      "metadata": {
        "id": "NHWgxu_YnVNG"
      },
      "source": [
        "Now, let's build the **final model by using tuned values of the hyperparameters**, which we received by using **grid search cross-validation**."
      ]
    },
    {
      "cell_type": "code",
      "execution_count": null,
      "metadata": {
        "id": "PujRJA8X_JEJ"
      },
      "outputs": [],
      "source": [
        "# Using the optimal similarity measure for user-user based collaborative filtering\n",
        "sim_options = {'name': 'cosine',\n",
        "               'user_based': True}\n",
        "\n",
        "# Creating an instance of KNNBasic with optimal hyperparameter values\n",
        "sim_user_user_optimized = KNNBasic(sim_options = sim_options, k = 40, min_k = 6, random_state = 1, verbose = False)\n",
        "\n",
        "# Training the algorithm on the train set\n",
        "sim_user_user_optimized.fit(trainset)\n",
        "\n",
        "# Let us compute precision@k and recall@k also with k =10\n",
        "precision_recall_at_k(sim_user_user_optimized)"
      ]
    },
    {
      "cell_type": "markdown",
      "metadata": {
        "id": "yHsWvFjKTsnp"
      },
      "source": [
        "**Write your observations here:**____________"
      ]
    },
    {
      "cell_type": "markdown",
      "metadata": {
        "id": "dAGllj78-8Jz"
      },
      "source": [
        "### **Steps:**\n",
        "- **Predict rating for the user with `userId=\"A3LDPF5FMB782Z\"`, and `prod_id= \"1400501466\"` using the optimized model**\n",
        "- **Predict rating for `userId=\"A34BZM6S9L7QI4\"` who has not interacted with `prod_id =\"1400501466\"`, by using the optimized model**\n",
        "- **Compare the output with the output from the baseline model**"
      ]
    },
    {
      "cell_type": "code",
      "execution_count": null,
      "metadata": {
        "id": "FgV63lHiq1TV"
      },
      "outputs": [],
      "source": [
        "# Use sim_user_user_optimized model to recommend for userId \"A3LDPF5FMB782Z\" and productId 1400501466\n",
        "sim_user_user_optimized.predict('A3LDPF5FMB782Z', '1400501466', r_ui=5.0, verbose= True)"
      ]
    },
    {
      "cell_type": "code",
      "execution_count": null,
      "metadata": {
        "id": "HXO2Ztjhq1bN"
      },
      "outputs": [],
      "source": [
        "# Use sim_user_user_optimized model to recommend for userId \"A34BZM6S9L7QI4\" and productId \"1400501466\"\n",
        "_________________"
      ]
    },
    {
      "cell_type": "markdown",
      "metadata": {
        "id": "s5i-OPprNF2e"
      },
      "source": [
        "**Write your observations here:**____________"
      ]
    },
    {
      "cell_type": "markdown",
      "metadata": {
        "id": "op_zwO_FnVNH"
      },
      "source": [
        "### **Identifying similar Users to a given User (nearest neighbors)**"
      ]
    },
    {
      "cell_type": "markdown",
      "metadata": {
        "id": "o2QsfqhanVNH"
      },
      "source": [
        "We can also find out **similar users to a given user** or its **nearest neighbors** based on this KNNBasic algorithm. Below, we are finding the 5 most similar users to the first user in the list with internal id 0, based on the `msd` distance metric."
      ]
    },
    {
      "cell_type": "code",
      "execution_count": null,
      "metadata": {
        "id": "TbFle7cKmBJG"
      },
      "outputs": [],
      "source": [
        "# 0 is the inner id of the user\n",
        "sim_user_user_optimized.get_neighbors(0, 5)"
      ]
    },
    {
      "cell_type": "markdown",
      "metadata": {
        "id": "Z0NsrX_anVNH"
      },
      "source": [
        "### **Implementing the recommendation algorithm based on optimized KNNBasic model**"
      ]
    },
    {
      "cell_type": "markdown",
      "metadata": {
        "id": "U3ESobDynVNI"
      },
      "source": [
        "Below we will be implementing a function where the input parameters are:\n",
        "\n",
        "- data: A **rating** dataset\n",
        "- user_id: A user id **against which we want the recommendations**\n",
        "- top_n: The **number of products we want to recommend**\n",
        "- algo: the algorithm we want to use **for predicting the ratings**\n",
        "- The output of the function is a **set of top_n items** recommended for the given user_id based on the given algorithm"
      ]
    },
    {
      "cell_type": "code",
      "execution_count": null,
      "metadata": {
        "id": "vW9V1Tk65HlY"
      },
      "outputs": [],
      "source": [
        "def get_recommendations(data, user_id, top_n, algo):\n",
        "\n",
        "    # Creating an empty list to store the recommended product ids\n",
        "    recommendations = []\n",
        "\n",
        "    # Creating an user item interactions matrix\n",
        "    user_item_interactions_matrix = data.pivot(index = 'user_id', columns = 'prod_id', values = 'rating')\n",
        "\n",
        "    # Extracting those product ids which the user_id has not interacted yet\n",
        "    non_interacted_products = user_item_interactions_matrix.loc[user_id][user_item_interactions_matrix.loc[user_id].isnull()].index.tolist()\n",
        "\n",
        "    # Looping through each of the product ids which user_id has not interacted yet\n",
        "    for item_id in non_interacted_products:\n",
        "\n",
        "        # Predicting the ratings for those non interacted product ids by this user\n",
        "        est = algo.predict(user_id, item_id).est\n",
        "\n",
        "        # Appending the predicted ratings\n",
        "        recommendations.append((item_id, est))\n",
        "\n",
        "    # Sorting the predicted ratings in descending order\n",
        "    recommendations.sort(key = lambda x: x[1], reverse = True)\n",
        "\n",
        "    return recommendations[:top_n] # Returing top n highest predicted rating products for this user"
      ]
    },
    {
      "cell_type": "markdown",
      "metadata": {
        "id": "Oj_S7kh4nVNI"
      },
      "source": [
        "**Predicting top 5 products for userId = \"A3LDPF5FMB782Z\" with similarity based recommendation system**"
      ]
    },
    {
      "cell_type": "code",
      "execution_count": null,
      "metadata": {
        "id": "qWbR85mI5Hrk"
      },
      "outputs": [],
      "source": [
        "# Making top 5 recommendations for user_id \"A3LDPF5FMB782Z\" with a similarity-based recommendation engine\n",
        "recommendations = get_recommendations(df_final, \"A3LDPF5FMB782Z\", 5, sim_user_user_optimized)"
      ]
    },
    {
      "cell_type": "code",
      "execution_count": null,
      "metadata": {
        "id": "b5WfIX0Z6_q2"
      },
      "outputs": [],
      "source": [
        "# Building the dataframe for above recommendations with columns \"prod_id\" and \"predicted_ratings\"\n",
        "pd.DataFrame(recommendations, columns = ['prod_id', 'predicted_ratings'])"
      ]
    },
    {
      "cell_type": "markdown",
      "metadata": {
        "id": "7eR6BMUWwk9R"
      },
      "source": [
        "**Write your observations here:**____________"
      ]
    },
    {
      "cell_type": "markdown",
      "metadata": {
        "id": "QgbzJKk7Tsnr"
      },
      "source": [
        "### **Item-Item Similarity-based Collaborative Filtering Recommendation System**"
      ]
    },
    {
      "cell_type": "markdown",
      "metadata": {
        "id": "qTJu_2hcTsnr"
      },
      "source": [
        "* Above we have seen **similarity-based collaborative filtering** where similarity is calculated **between users**. Now let us look into similarity-based collaborative filtering where similarity is seen **between items**."
      ]
    },
    {
      "cell_type": "code",
      "execution_count": null,
      "metadata": {
        "id": "W5RMcdzjTsns",
        "scrolled": false
      },
      "outputs": [],
      "source": [
        "# Declaring the similarity options\n",
        "sim_options = {'name': 'cosine',\n",
        "               'user_based': False}\n",
        "\n",
        "# KNN algorithm is used to find desired similar items\n",
        "sim_item_item = KNNBasic(sim_options = sim_options, random_state = 1, verbose = False)\n",
        "\n",
        "# Train the algorithm on the train set, and predict ratings for the test set\n",
        "sim_item_item.fit(trainset)\n",
        "\n",
        "# Let us compute precision@k, recall@k, and f_1 score with k = 10\n",
        "precision_recall_at_k(sim_item_item)"
      ]
    },
    {
      "cell_type": "markdown",
      "metadata": {
        "id": "ni9LoeUVTsns"
      },
      "source": [
        "**Write your observations here:**____________"
      ]
    },
    {
      "cell_type": "markdown",
      "metadata": {
        "id": "jFbcDQmxTsns"
      },
      "source": [
        "Let's now **predict a rating for a user with `userId = A3LDPF5FMB782Z` and `prod_Id = 1400501466`**. Here the user has already interacted or watched the product with productId \"1400501466\"."
      ]
    },
    {
      "cell_type": "code",
      "source": [
        "# Assuming 'df' is your dataset with columns 'user_id', 'prod_id', and 'interaction' (or 'rating')\n",
        "\n",
        "# Filter the dataframe for the given user and product\n",
        "user_product_interactions = df_final[(df_final['user_id'] == 'A3LDPF5FMB782Z') & (df_final['prod_id'] == '1400501466')]\n",
        "\n",
        "# Count the number of interactions\n",
        "interaction_count = user_product_interactions.shape[0]\n",
        "\n",
        "# Print the result\n",
        "print(f\"The user 'A3LDPF5FMB782Z' has interacted with product '1400501466' {interaction_count} times.\")\n",
        "\n"
      ],
      "metadata": {
        "id": "bvHMmpMu6ZwA"
      },
      "execution_count": null,
      "outputs": []
    },
    {
      "cell_type": "code",
      "source": [
        "result = df_final[(df_final['user_id'] == 'A3LDPF5FMB782Z') & (df_final['prod_id'] == '1400501466')]['rating'].sum()\n",
        "print(result)"
      ],
      "metadata": {
        "id": "isJHxnMzUyCl"
      },
      "execution_count": null,
      "outputs": []
    },
    {
      "cell_type": "code",
      "source": [
        "df_final.loc[(df_final['user_id'] == 'A3LDPF5FMB782Z') & (df_final['prod_id'] == '1400501466'), 'rating'].value_counts()"
      ],
      "metadata": {
        "id": "RYgJ9sn8WSe6"
      },
      "execution_count": null,
      "outputs": []
    },
    {
      "cell_type": "code",
      "execution_count": null,
      "metadata": {
        "id": "JsF-aaWYTsns"
      },
      "outputs": [],
      "source": [
        "# Predicting rating for a sample user with an interacted product\n",
        "sim_item_item.predict(\"A3LDPF5FMB782Z\", \"1400501466\", r_ui = 5, verbose = True)"
      ]
    },
    {
      "cell_type": "markdown",
      "metadata": {
        "id": "2h0OyDMFTsns"
      },
      "source": [
        "**Write your observations here:**____________"
      ]
    },
    {
      "cell_type": "markdown",
      "metadata": {
        "id": "BqKGZoAtTsns"
      },
      "source": [
        "Below we are **predicting rating for the `userId = A34BZM6S9L7QI4` and `prod_id = 1400501466`**."
      ]
    },
    {
      "cell_type": "code",
      "source": [
        "# Assuming 'df' is your dataset with columns 'user_id', 'prod_id', and 'interaction' (or 'rating')\n",
        "\n",
        "# Filter the dataframe for the given user and product\n",
        "user_product_interactions = df_final[(df_final['user_id'] == 'A34BZM6S9L7QI4') & (df_final['prod_id'] == '1400501466')]\n",
        "\n",
        "# Count the number of interactions\n",
        "interaction_count = user_product_interactions.shape[0]\n",
        "\n",
        "# Print the result\n",
        "print(f\"The user 'A34BZM6S9L7QI4' has interacted with product '1400501466' {interaction_count} times.\")"
      ],
      "metadata": {
        "id": "BDs9ErkcarrO"
      },
      "execution_count": null,
      "outputs": []
    },
    {
      "cell_type": "code",
      "source": [
        "df_final.loc[(df_final['user_id']== 'A34BZM6S9L7QI4') & (df_final['prod_id']== '1400501466'), 'rating'].value_counts()\n"
      ],
      "metadata": {
        "id": "_xqVm2Wdbcpu"
      },
      "execution_count": null,
      "outputs": []
    },
    {
      "cell_type": "code",
      "execution_count": null,
      "metadata": {
        "id": "5yILOxXRTsns"
      },
      "outputs": [],
      "source": [
        "# Predicting rating for a sample user with a non interacted product\n",
        "sim_item_item.predict(\"A34BZM6S9L7QI4\", \"1400501466\", verbose = True)"
      ]
    },
    {
      "cell_type": "markdown",
      "metadata": {
        "id": "sDKaAveJTsns"
      },
      "source": [
        "**Write your observations here:**____________"
      ]
    },
    {
      "cell_type": "markdown",
      "metadata": {
        "id": "meSvpNLj_EjD"
      },
      "source": [
        "### **Hyperparameter tuning the item-item similarity-based model**\n",
        "\n",
        "- Use the following values for the param_grid and tune the model\n",
        "  - 'k': [10, 20, 30]\n",
        "  - 'min_k': [3, 6, 9]\n",
        "  - 'sim_options': {'name': ['msd', 'cosine']\n",
        "  - 'user_based': [False]\n",
        "- Use GridSearchCV() to tune the model using the 'rmse' measure\n",
        "- Print the best score and best parameters"
      ]
    },
    {
      "cell_type": "code",
      "execution_count": null,
      "metadata": {
        "id": "f5bcZ3HgTsnt"
      },
      "outputs": [],
      "source": [
        "# Setting up parameter grid to tune the hyperparameters\n",
        "param_grid = {'k': [10, 20, 30], 'min_k': [3, 6,9], 'sim_options' : {'name': ['msd', 'cosine'], 'user_based': [False] } }\n",
        "\n",
        "# Performing 3-fold cross validation to tune the hyperparameters\n",
        "gs = GridSearchCV(KNNBasic, param_grid, measures=['rmse', 'mae'], cv=3, n_jobs = -1)\n",
        "\n",
        "# Fitting the data\n",
        "gs.fit(data)\n",
        "\n",
        "# Find the best RMSE score\n",
        "print(gs.best_score['rmse'])\n",
        "\n",
        "# Find the combination of parameters that gave the best RMSE score\n",
        "print(gs.best_params['rmse'])"
      ]
    },
    {
      "cell_type": "markdown",
      "metadata": {
        "id": "1psOlx6zTsnt"
      },
      "source": [
        "Once the **grid search** is complete, we can get the **optimal values for each of those hyperparameters as shown above.**"
      ]
    },
    {
      "cell_type": "markdown",
      "metadata": {
        "id": "JrSTaQemTsnt"
      },
      "source": [
        "Now let's build the **final model** by using **tuned values of the hyperparameters** which we received by using grid search cross-validation."
      ]
    },
    {
      "cell_type": "code",
      "execution_count": null,
      "metadata": {
        "id": "dSeiM1qeTsnt"
      },
      "outputs": [],
      "source": [
        "# Using the optimal similarity measure for item-item based collaborative filtering\n",
        "sim_options = {'name' : 'msd' , 'user_based' : False}\n",
        "\n",
        "# Creating an instance of KNNBasic with optimal hyperparameter values\n",
        "sim_item_item_optimized = KNNBasic(sim_options=sim_options, k=30 , min_k=6 , random_state = 1, verbose = False)\n",
        "\n",
        "# Training the algorithm on the train set\n",
        "sim_item_item_optimized.fit(trainset)\n",
        "\n",
        "# Let us compute precision@k and recall@k, f1_score and RMSE\n",
        "precision_recall_at_k(sim_item_item_optimized)"
      ]
    },
    {
      "cell_type": "markdown",
      "metadata": {
        "id": "ZCXKnMI8Tsnt"
      },
      "source": [
        "**Write your observations here:__________**"
      ]
    },
    {
      "cell_type": "markdown",
      "metadata": {
        "id": "IJmEEM4Qwk9T"
      },
      "source": [
        "### **Steps:**\n",
        "- **Predict rating for the user with `userId=\"A3LDPF5FMB782Z\"`, and `prod_id= \"1400501466\"` using the optimized model**\n",
        "- **Predict rating for `userId=\"A34BZM6S9L7QI4\"` who has not interacted with `prod_id =\"1400501466\"`, by using the optimized model**\n",
        "- **Compare the output with the output from the baseline model**"
      ]
    },
    {
      "cell_type": "code",
      "source": [
        "df_final.loc[(df_final['user_id']== 'A3LDPF5FMB782Z') & (df_final['prod_id']== '1400501466'), 'rating'].value_counts()\n"
      ],
      "metadata": {
        "id": "CasQ9VkgxgBj"
      },
      "execution_count": null,
      "outputs": []
    },
    {
      "cell_type": "code",
      "execution_count": null,
      "metadata": {
        "id": "gIBRRvdoTsnt"
      },
      "outputs": [],
      "source": [
        "# Use sim_item_item_optimized model to recommend for userId \"A3LDPF5FMB782Z\" and productId \"1400501466\"\n",
        "sim_item_item_optimized.predict('A3LDPF5FMB782Z', '1400501466', r_ui=5.0, verbose= True)"
      ]
    },
    {
      "cell_type": "code",
      "execution_count": null,
      "metadata": {
        "id": "LNEgcI9PTsnu"
      },
      "outputs": [],
      "source": [
        "# Use sim_item_item_optimized model to recommend for userId \"A34BZM6S9L7QI4\" and productId \"1400501466\"\n",
        "sim_item_item_optimized.predict('A34BZM6S9L7QI4', '1400501466', r_ui=None, verbose= True)"
      ]
    },
    {
      "cell_type": "markdown",
      "metadata": {
        "id": "J79LG4R0Tsnu"
      },
      "source": [
        "**Write your observations here:__________**"
      ]
    },
    {
      "cell_type": "markdown",
      "metadata": {
        "id": "MDlNB7tnTsnu"
      },
      "source": [
        "### **Identifying similar items to a given item (nearest neighbors)**"
      ]
    },
    {
      "cell_type": "markdown",
      "metadata": {
        "id": "RLdDiFA6Tsnu"
      },
      "source": [
        "We can also find out **similar items** to a given item or its nearest neighbors based on this **KNNBasic algorithm**. Below we are finding the 5 most similar items to the item with internal id 0 based on the `msd` distance metric."
      ]
    },
    {
      "cell_type": "code",
      "execution_count": null,
      "metadata": {
        "id": "ZRJS4oDFTsnu"
      },
      "outputs": [],
      "source": [
        "sim_item_item_optimized._____________"
      ]
    },
    {
      "cell_type": "markdown",
      "metadata": {
        "id": "cgREPkBbTsnu"
      },
      "source": [
        "**Predicting top 5 products for userId = \"A1A5KUIIIHFF4U\" with similarity based recommendation system.**"
      ]
    },
    {
      "cell_type": "code",
      "execution_count": null,
      "metadata": {
        "id": "rzoEbuZFTsnu"
      },
      "outputs": [],
      "source": [
        "# Making top 5 recommendations for user_id A1A5KUIIIHFF4U with similarity-based recommendation engine.\n",
        "recommendations = get_recommendations(df_final, \"A1A5KUIIIHFF4U\", 5, sim_item_item_optimized)"
      ]
    },
    {
      "cell_type": "code",
      "execution_count": null,
      "metadata": {
        "id": "_kXVTiysTsnv"
      },
      "outputs": [],
      "source": [
        "# Building the dataframe for above recommendations with columns \"prod_id\" and \"predicted_ratings\"\n",
        "pd.DataFrame(recommendations, columns = ['prod_id', 'predicted_ratings'])"
      ]
    },
    {
      "cell_type": "markdown",
      "metadata": {
        "id": "zUMHTCllwk9U"
      },
      "source": [
        "**Write your observations here:__________**"
      ]
    },
    {
      "cell_type": "markdown",
      "metadata": {
        "id": "DHzmYvs0Tsnv"
      },
      "source": [
        "Now as we have seen **similarity-based collaborative filtering algorithms**, let us now get into **model-based collaborative filtering algorithms**."
      ]
    },
    {
      "cell_type": "markdown",
      "metadata": {
        "id": "rKgJpSA9vOOL"
      },
      "source": [
        "## **Model 3: Matrix Factorization**"
      ]
    },
    {
      "cell_type": "markdown",
      "metadata": {
        "id": "YF6ZGyqhCAob"
      },
      "source": [
        "Model-based Collaborative Filtering is a **personalized recommendation system**, the recommendations are based on the past behavior of the user and it is not dependent on any additional information. We use **latent features** to find recommendations for each user."
      ]
    },
    {
      "cell_type": "markdown",
      "metadata": {
        "id": "n4Otha8ovOOL"
      },
      "source": [
        "### **Singular Value Decomposition (SVD)**"
      ]
    },
    {
      "cell_type": "markdown",
      "metadata": {
        "id": "3sGl3QkLvOOL"
      },
      "source": [
        "SVD is used to **compute the latent features** from the **user-item matrix**. But SVD does not work when we **miss values** in the **user-item matrix**."
      ]
    },
    {
      "cell_type": "code",
      "execution_count": null,
      "metadata": {
        "id": "07-2PT5Ssjqm"
      },
      "outputs": [],
      "source": [
        "# Using SVD matrix factorization. Use random_state = 1\n",
        "svd = SVD(random_state = 1)\n",
        "\n",
        "# Training the algorithm on the train set\n",
        "svd.fit(trainset)\n",
        "\n",
        "# Use the function precision_recall_at_k to compute precision@k, recall@k, F1-Score, and RMSE\n",
        "precision_recall_at_k(svd)"
      ]
    },
    {
      "cell_type": "markdown",
      "metadata": {
        "id": "BQ6fTuCDnVNL"
      },
      "source": [
        "**Write your observations here:___________**"
      ]
    },
    {
      "cell_type": "markdown",
      "metadata": {
        "id": "HD2AU1DnnVNM"
      },
      "source": [
        "**Let's now predict the rating for a user with `userId = \"A3LDPF5FMB782Z\"` and `prod_id = \"1400501466`.**"
      ]
    },
    {
      "cell_type": "code",
      "execution_count": null,
      "metadata": {
        "id": "yWIhfdxXsjqm"
      },
      "outputs": [],
      "source": [
        "# Making prediction\n",
        "svd.predict(\"A3LDPF5FMB782Z\", \"1400501466\", r_ui = 5, verbose = True)"
      ]
    },
    {
      "cell_type": "markdown",
      "metadata": {
        "id": "oIjzqDY5nVNM"
      },
      "source": [
        "**Write your observations here:___________**"
      ]
    },
    {
      "cell_type": "markdown",
      "metadata": {
        "id": "I1aYxVeMnVNM"
      },
      "source": [
        "**Below we are predicting rating for the `userId = \"A34BZM6S9L7QI4\"` and `productId = \"1400501466\"`.**"
      ]
    },
    {
      "cell_type": "code",
      "execution_count": null,
      "metadata": {
        "id": "APm-uMSvcAMf"
      },
      "outputs": [],
      "source": [
        "# Making prediction\n",
        "svd.predict(\"A34BZM6S9L7QI4\", \"1400501466\", verbose = True)"
      ]
    },
    {
      "cell_type": "markdown",
      "metadata": {
        "id": "NEL6dy3wnVNM"
      },
      "source": [
        "**Write your observations here:___________**"
      ]
    },
    {
      "cell_type": "markdown",
      "metadata": {
        "id": "x13Eb9Owvpcw"
      },
      "source": [
        "### **Improving Matrix Factorization based recommendation system by tuning its hyperparameters**"
      ]
    },
    {
      "cell_type": "markdown",
      "metadata": {
        "id": "iQcDPhhcnVNN"
      },
      "source": [
        "Below we will be tuning only three hyperparameters:\n",
        "- **n_epochs**: The number of iterations of the SGD algorithm.\n",
        "- **lr_all**: The learning rate for all parameters.\n",
        "- **reg_all**: The regularization term for all parameters."
      ]
    },
    {
      "cell_type": "code",
      "execution_count": null,
      "metadata": {
        "id": "4bM81V_hvtwv"
      },
      "outputs": [],
      "source": [
        "# Set the parameter space to tune\n",
        "param_grid = {'n_epochs': [10, 20, 30], 'lr_all': [0.001, 0.005, 0.01],\n",
        "              'reg_all': [0.2, 0.4, 0.6]}\n",
        "\n",
        "# Performing 3-fold gridsearch cross-validation\n",
        "gs_ = GridSearchCV(SVD, param_grid , measures = ['rmse'], cv = 3, n_jobs = -1)\n",
        "\n",
        "# Fitting data\n",
        "gs_.fit(data)\n",
        "\n",
        "# Best RMSE score\n",
        "print(gs_.best_score['rmse'])\n",
        "\n",
        "# Combination of parameters that gave the best RMSE score\n",
        "print(gs_.best_params['rmse'])"
      ]
    },
    {
      "cell_type": "markdown",
      "metadata": {
        "id": "KzY78HsrnVNO"
      },
      "source": [
        "Now, we will **the build final model** by using **tuned values** of the hyperparameters, which we received using grid search cross-validation above."
      ]
    },
    {
      "cell_type": "code",
      "execution_count": null,
      "metadata": {
        "id": "TA_7xe-nnhuu"
      },
      "outputs": [],
      "source": [
        "# Build the optimized SVD model using optimal hyperparameter search. Use random_state = 1\n",
        "svd_optimized = SVD(n_epochs=20, lr_all=0.01, reg_all=0.2, random_state=1)\n",
        "\n",
        "# Training the algorithm on the train set\n",
        "svd_optimized.fit(trainset)\n",
        "\n",
        "# Use the function precision_recall_at_k to compute precision@k, recall@k, F1-Score, and RMSE\n",
        "precision_recall_at_k(svd_optimized)"
      ]
    },
    {
      "cell_type": "markdown",
      "metadata": {
        "id": "9HJvPsjITsny"
      },
      "source": [
        "**Write your observations here:_____________**"
      ]
    },
    {
      "cell_type": "markdown",
      "metadata": {
        "id": "md0-dL56nVNO"
      },
      "source": [
        "**Let's now predict a rating for a user with `userId = \"A3LDPF5FMB782Z\"` and `productId = \"1400501466\"` with the optimized model.**"
      ]
    },
    {
      "cell_type": "markdown",
      "metadata": {
        "id": "4Q2aChIx_aEt"
      },
      "source": [
        "### **Steps:**\n",
        "- **Predict rating for the user with `userId=\"A3LDPF5FMB782Z\"`, and `prod_id= \"1400501466\"` using the optimized model**\n",
        "- **Predict rating for `userId=\"A34BZM6S9L7QI4\"` who has not interacted with `prod_id =\"1400501466\"`, by using the optimized model**\n",
        "- **Compare the output with the output from the baseline model**"
      ]
    },
    {
      "cell_type": "code",
      "execution_count": null,
      "metadata": {
        "id": "s6C1PAfboM8_"
      },
      "outputs": [],
      "source": [
        "# Use svd_algo_optimized model to recommend for userId \"A3LDPF5FMB782Z\" and productId \"1400501466\"\n",
        "svd_optimized.predict(\"A3LDPF5FMB782Z\", \"1400501466\", r_ui = 5, verbose = True)"
      ]
    },
    {
      "cell_type": "code",
      "execution_count": null,
      "metadata": {
        "id": "k1xjn3kOoQyg"
      },
      "outputs": [],
      "source": [
        "# Use svd_algo_optimized model to recommend for userId \"A34BZM6S9L7QI4\" and productId \"1400501466\"\n",
        "svd_optimized.predict(\"A34BZM6S9L7QI4\", \"1400501466\", verbose = True)"
      ]
    },
    {
      "cell_type": "markdown",
      "metadata": {
        "id": "7BVcXmPOTsny"
      },
      "source": [
        "**Write your observations here:**_____________"
      ]
    },
    {
      "cell_type": "markdown",
      "metadata": {
        "id": "nnwPwgjB8DwS"
      },
      "source": [
        "### **Conclusion and Recommendations**"
      ]
    },
    {
      "cell_type": "markdown",
      "metadata": {
        "id": "xuqnifw9NF2p"
      },
      "source": [
        "**Write your conclusion and recommendations here**"
      ]
    }
  ],
  "metadata": {
    "colab": {
      "provenance": [],
      "include_colab_link": true
    },
    "kernelspec": {
      "display_name": "Python 3 (ipykernel)",
      "language": "python",
      "name": "python3"
    },
    "language_info": {
      "codemirror_mode": {
        "name": "ipython",
        "version": 3
      },
      "file_extension": ".py",
      "mimetype": "text/x-python",
      "name": "python",
      "nbconvert_exporter": "python",
      "pygments_lexer": "ipython3",
      "version": "3.9.7"
    }
  },
  "nbformat": 4,
  "nbformat_minor": 0
}